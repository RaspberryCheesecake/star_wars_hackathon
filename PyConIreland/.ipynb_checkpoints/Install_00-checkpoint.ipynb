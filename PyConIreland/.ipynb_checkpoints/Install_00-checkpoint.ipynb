{
 "cells": [
  {
   "cell_type": "markdown",
   "metadata": {
    "deletable": true,
    "editable": true
   },
   "source": [
    "## Setup\n",
    "\n",
    "### Libraries we will use in this tutorial:\n",
    "\n",
    "- NumPy y SciPy\n",
    "- Pandas requiere Cython\n",
    "- OpenCV 3.0\n",
    "- Scikit-Learn for validation and metrics\n",
    "- Matplotlib for plotting \n",
    "- Lasagne and Theano for Deep Learning"
   ]
  },
  {
   "cell_type": "code",
   "execution_count": null,
   "metadata": {
    "collapsed": true,
    "deletable": true,
    "editable": true
   },
   "outputs": [],
   "source": [
    "! pip install numpy scipy pandas scikit-learn matplotlib"
   ]
  },
  {
   "cell_type": "code",
   "execution_count": null,
   "metadata": {
    "collapsed": true,
    "deletable": true,
    "editable": true
   },
   "outputs": [],
   "source": [
    "! pip install -r https://raw.githubusercontent.com/Lasagne/Lasagne/master/requirements.txt"
   ]
  },
  {
   "cell_type": "code",
   "execution_count": null,
   "metadata": {
    "collapsed": true,
    "deletable": true,
    "editable": true
   },
   "outputs": [],
   "source": [
    "! pip install https://github.com/Lasagne/Lasagne/archive/master.zip"
   ]
  },
  {
   "cell_type": "markdown",
   "metadata": {
    "deletable": true,
    "editable": true
   },
   "source": [
    "## Or from docker\n",
    "For any computer:\n",
    "  - Docker installed\n",
    "  - \\$ docker pull pablo1n7/tatooine\n",
    "  - \\$ git clone https://github.com/celiacintas/star_wars_hackathon.git\n",
    "  - $ sh run_docker.sh\n",
    "\n",
    "If you have a nvidia card:\n",
    "  - You should have the nvidia drivers installed (http://www.nvidia.com/object/unix.html)\n",
    "  - Install nvidia-docker (https://github.com/NVIDIA/nvidia-docker)\n",
    "  - \\$ sh run_docker_nvidia.sh\n",
    " "
   ]
  }
 ],
 "metadata": {
  "kernelspec": {
   "display_name": "Python 3",
   "language": "python",
   "name": "python3"
  },
  "language_info": {
   "codemirror_mode": {
    "name": "ipython",
    "version": 3
   },
   "file_extension": ".py",
   "mimetype": "text/x-python",
   "name": "python",
   "nbconvert_exporter": "python",
   "pygments_lexer": "ipython3",
   "version": "3.6.0"
  }
 },
 "nbformat": 4,
 "nbformat_minor": 0
}
