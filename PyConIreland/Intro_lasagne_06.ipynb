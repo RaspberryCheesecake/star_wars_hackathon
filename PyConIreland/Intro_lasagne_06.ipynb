{
 "cells": [
  {
   "cell_type": "markdown",
   "metadata": {
    "deletable": true,
    "editable": true
   },
   "source": [
    "# Introducción a Deep Learning con Lasagne\n",
    "\n",
    "## Antes un repaso de conceptos ..\n",
    "### Aprendizaje Supervisado\n",
    "\n",
    "La forma más comun de *machine learning*, sea profundo o no, es el aprendizaje supervisado.\n",
    "Si queremos realizar un clasificador a partir de imagenes, vamos a recolectar las mismas y asociarles una etiqueta. En etapa de entrenamiento, una imagen es mostrada al clasificador y este genera una salida en forma de vector con *scores*, uno para cada categoría. La idea es que la categoría deseada tenga el *score* más alto posible. \n",
    "\n",
    "![knobs](../images/workflow.png \"workflow\")\n",
    "\n",
    "Workflow tomado de [Deep learning for computational biology](http://onlinelibrary.wiley.com/doi/10.15252/msb.20156651/full)\n",
    "\n",
    "Durante el entrenamiento calculamos una función que mide el error o distancia entre los *scores* que genera nuestro clasificador y los valores reales. Con el resultado de esta función, el clasificador modifica sus parametros para reducir este error. Estos parametros, usualmente llamados pesos, se pueden ver como \"perillas\" que definen la función entrada-salida de nuestro clasificador.\n",
    "\n",
    "\n",
    "![knobs](../images/knobs.jpg \"knobs\")\n"
   ]
  },
  {
   "cell_type": "markdown",
   "metadata": {
    "deletable": true,
    "editable": true
   },
   "source": [
    "## Redes neuronales\n",
    "\n",
    "Ahora, pensemos en un problema, donde tenemos acceso a datos etiquetados del tipo $(x_i, y_i)$. Las redes neuronales nos permiten definir hipotesis no lineales y complejas de la forma $h_{W, b}(x)$, donde $W, b$ son los parametros que podemos adaptar a nuestros datos $(x_i, y_i)$.\n",
    "\n",
    "![knobs](images/rn.png \"rn\")\n",
    "\n",
    "Consideremos una red neuronal con $N$ capas, las capas de entrada y salida estan representadas respectivamente como $X_0$ y $X_N$, donde el vector $X_{n-1}$ es la capa de entrada de $n$ (con $n=1, \\cdots, N$).\n",
    "Si $W_n$ es la matriz de pesos y $b_n$ el vector de bias, la salida de la capa $X_n$, puede ser representada de la siguiente manera:\n",
    "\n",
    "$X_n = f(W_{n}X_{n-1} + b_n)$\n",
    "\n",
    "Donde $f$ es la función de activación.\n",
    "\n",
    "![activation](../images/activation.png \"activation cheatsheet https://www.quora.com/What-is-the-role-of-the-activation-function-in-a-neural-network\")\n",
    "Imagen de [https://www.quora.com/What-is-the-role-of-the-activation-function-in-a-neural-network](https://www.quora.com/What-is-the-role-of-the-activation-function-in-a-neural-network)\n",
    "\n",
    "Para ajustar los pesos, el algoritmo de aprendizaje computa el gradiente del vector, por cada peso, indicando por que cantidad el error se incrementaría o reduciría si el peso se aumentara en una pequeña cantidad. Luego el vector del peso es actualizado en la dirección opuesta al gradiente.\n",
    "\n",
    "La **función objetivo**, promedidada sobre todos los elementos del entrenamiento, se puede ver como un paisaje montañoso. El vector del gradiente negativo nos indica la dirección hacia el terreno próximo con menor error, llevandonos asi al mínimo posible."
   ]
  },
  {
   "cell_type": "code",
   "execution_count": null,
   "metadata": {
    "collapsed": false,
    "deletable": true,
    "editable": true
   },
   "outputs": [],
   "source": [
    "from lasagne import objectives\n",
    "dir(objectives)"
   ]
  },
  {
   "cell_type": "code",
   "execution_count": null,
   "metadata": {
    "collapsed": false,
    "deletable": true,
    "editable": true
   },
   "outputs": [],
   "source": [
    "from lasagne import nonlinearities\n",
    "dir(nonlinearities)"
   ]
  },
  {
   "cell_type": "markdown",
   "metadata": {
    "deletable": true,
    "editable": true
   },
   "source": [
    "Para llevar esta busqueda de error mínimo a la practica, se utiliza **Stochastic Gradient Descent**, esto consta de mostrar los vectores de entrada de un subconjunto de datos de entrenamiento, se computan las salidas, sus errores, se computa el gradiente para esos ejemplos y se ajustan los pesos acorde. Este proceso se repite por sobre varios subconjuntos de ejemplos hasta que el promedio de la función objetivo deja de decrecer.\n",
    "\n",
    "Dado un problema de reconocimiento, la tarea del entrenamiento consiste en encontrar el conjunto de parametros óptimos $\\{W_{n}, b_{n}\\}$ que minimizan el error de clasificación.\n",
    "Para determinar como estos parámetros se deberían modificar para reducir el error, se utiliza comunmente un algortimo de *gradient descent*.\n",
    "\n",
    "La predicción del error la denotamos como  $e(X_{N}, X_{true})$. El gradiente de $e(X_{N}, X_{true})$ es calculado teniendo en cuenta los parámetros del modelo $\\{W_{n}, b_{n}\\}$.\n",
    "Los valores de cada capa son actualizados mediante la toma de pequeños pasos:\n",
    "\n",
    "$W_{n} \\gets W_{n} - \\eta  \\frac{\\partial e(X_{N}, X_{true})}{\\partial W_{n}}$\n",
    "\n",
    "$b_{n} \\gets b_{n} - \\eta  \\frac{\\partial e(X_{N}, X_{true})}{\\partial b_{n}}$\n",
    "\n",
    "Donde, $\\eta$ es la *tasa de aprendizaje*, un hiperparámetro que controla el tamaño del paso hacia la convergencia.\n",
    "\n",
    "Una buena práctica es trabajar con un $\\eta$ que decrece de forma lineal a medida que los *epochs* avanzaban, mientras que el *momentum* se incrementaba.\n",
    "\n",
    "![alt text](images/saddle_point_evaluation_optimizers.gif \"gif de http://sebastianruder.com/optimizing-gradient-descent/\")\n",
    "Grafico de http://sebastianruder.com/optimizing-gradient-descent/"
   ]
  },
  {
   "cell_type": "code",
   "execution_count": null,
   "metadata": {
    "collapsed": false,
    "deletable": true,
    "editable": true
   },
   "outputs": [],
   "source": [
    "from lasagne import updates\n",
    "dir(updates)"
   ]
  },
  {
   "cell_type": "markdown",
   "metadata": {
    "deletable": true,
    "editable": true
   },
   "source": [
    "![alt text](images/deeplearning.jpg \"dl\")\n",
    "\n",
    "### Qué es Deep Learning ?\n",
    "\n",
    "Deep learning permite que modelos computacionales compuestos por varias capas de procesamiento puedan aprender representaciones sobre datos con múltiples niveles de abstracción y, mediante esto, descubrir representaciones precisas en grandes volúmenes de datos de forma autónoma. \n",
    "Particularmente, Convolutional Neural Networks (ConvNets) constituyen el estado del arte de varios problemas de visión computacional, dado su gran desempeño de clasificación en grandes volúmenes de imágenes. Su gran performance está basada en cuatro ideas basales: conexiones locales, pesos compartidos, pooling y el uso de varias capas. \n",
    "![alt text](images/capas_de_abstracci.png \"structure\")\n",
    "\n",
    "\n",
    "### ConvNets\n",
    "![alt text](images/convnets.jpg \"structure from http://ufldl.stanford.edu/tutorial/supervised/FeatureExtractionUsingConvolution/\")\n",
    "\n",
    "Una arquitectura clásica de ConvNet esta dada por dos etapas. La primer etapa se enfoca en **extraer características discriminantes** a distintos niveles de abstracción y la segunda se enfoca en la **clasificación** a partir de las características obtenidas previamente. La primera instancia esta compuesta por dos tipos de capas: de convolución y *pooling*.\n",
    "\n",
    "<!---Las arquitecturas de ConvNets asumen que los datos con los que se trabajara son arreglos multidimensionales, gracias a esta suposición varias cualidades de los datos se pueden embeber en la arquitectura de la red. A diferencia de las redes neuronales convencionales, las *ConvNets* cuentan con unidades organizadas en tres dimensiones: ancho, alto y profundidad. --->\n",
    "\n",
    "![alt text](images/cnn.jpg \"structure from http://ufldl.stanford.edu/tutorial/supervised/FeatureExtractionUsingConvolution/\")\n",
    "\n",
    "\n"
   ]
  },
  {
   "cell_type": "markdown",
   "metadata": {
    "deletable": true,
    "editable": true
   },
   "source": [
    "### Tipos de Capas"
   ]
  },
  {
   "cell_type": "code",
   "execution_count": null,
   "metadata": {
    "collapsed": false,
    "deletable": true,
    "editable": true
   },
   "outputs": [],
   "source": [
    "from lasagne.layers import InputLayer, Conv2DLayer, DropoutLayer,\\\n",
    "                           MaxPool2DLayer, DenseLayer\n",
    "from lasagne.nonlinearities import rectify"
   ]
  },
  {
   "cell_type": "markdown",
   "metadata": {
    "deletable": true,
    "editable": true
   },
   "source": [
    "#### Capas Densas\n",
    "\n",
    "Todas las unidades ocultas estan conectadas con todas las unidades de entrada!"
   ]
  },
  {
   "cell_type": "code",
   "execution_count": null,
   "metadata": {
    "collapsed": false,
    "deletable": true,
    "editable": true
   },
   "outputs": [],
   "source": [
    "(DenseLayer, {'num_units': 256, 'nonlinearity': rectify})"
   ]
  },
  {
   "cell_type": "markdown",
   "metadata": {
    "deletable": true,
    "editable": true
   },
   "source": [
    "#### Capas de Convolución\n",
    "\n",
    "En las capas de convolución, las unidades estan organizadas en *feature maps*, en las cuales cada unidad\n",
    "esta conectada a *patches* locales de los *feature maps* pertenecientes a la capa anterior mediante un conjunto de pesos, llamados *filter bank*. Todas las unidades dentro de un *feature map* comparten el mismo *filter bank*, distintos *feature maps* dentro de la misma capa usan diferentes *filter banks*, la disposición de estos tiene dos justificaciones, por un lado, datos en forma de arreglos, como en nuestro caso, imágenes, subconjuntos locales tienden a estar altamente correlacionados y por otro lado la estadística local de las imágenes son invariantes a su ubicación.\n",
    "\n",
    "\n",
    "![alt text](images/Convolution_schematic.gif \"gif de http://ufldl.stanford.edu/tutorial/supervised/FeatureExtractionUsingConvolution/\")\n",
    "*http://ufldl.stanford.edu/tutorial/supervised/FeatureExtractionUsingConvolution/\n"
   ]
  },
  {
   "cell_type": "code",
   "execution_count": null,
   "metadata": {
    "collapsed": false,
    "deletable": true,
    "editable": true
   },
   "outputs": [],
   "source": [
    "(Conv2DLayer, {'num_filters': 32, 'filter_size': 2})"
   ]
  },
  {
   "cell_type": "markdown",
   "metadata": {
    "deletable": true,
    "editable": true
   },
   "source": [
    "#### Max Pooling\n",
    "Para reducir la dimensionalidad de los *feature maps*, una capa de *pooling* es ubicada entre las capas de convolución. Las capas de *pooling* eliminan los valores no máximos calculando una función de agregación, comunmente se utiliza el maximo o el promedio sobre pequeñas regiones de la entrada. El proposito general de las capas de *pooling* es reducir el costo computacional en las capas ulteriores, reduciendo el tamaño de los futuros mapas de características y otorgando una forma de invariancia traslacional.\n",
    "\n",
    "\n",
    "![alt text](images/maxpool.jpg \" imagen de http://ufldl.stanford.edu/tutorial/supervised/FeatureExtractionUsingConvolution/\")"
   ]
  },
  {
   "cell_type": "code",
   "execution_count": null,
   "metadata": {
    "collapsed": false,
    "deletable": true,
    "editable": true
   },
   "outputs": [],
   "source": [
    "(MaxPool2DLayer, {'pool_size': 2})"
   ]
  },
  {
   "cell_type": "markdown",
   "metadata": {
    "deletable": true,
    "editable": true
   },
   "source": [
    "\n",
    "#### Dropout\n",
    "\n",
    "Dropout es una técnica que previene que una red caiga en *overfitting* y provee una manera de combinar de forma eficiente varias arquitecturas de redes neuronales juntas.\n",
    "El termino de dropout se refiere al descarte de unidades y sus conexiones (ya sea en capas ocultas o no) en una red neuronal, este descarte es solo temporal. La forma de elección de descarte es aleatoria, a cada unidad se le asocia un valor de probabilidad $p$ independiente del resto entre [0, 1].\n",
    "![alt text](images/dropout_.png \" de http://onlinelibrary.wiley.com/doi/10.15252/msb.20156651/full\")"
   ]
  },
  {
   "cell_type": "code",
   "execution_count": null,
   "metadata": {
    "collapsed": false,
    "deletable": true,
    "editable": true
   },
   "outputs": [],
   "source": [
    "(DropoutLayer, {'p': 0.5})"
   ]
  },
  {
   "cell_type": "markdown",
   "metadata": {
    "deletable": true,
    "editable": true
   },
   "source": [
    "## Lasagne\n"
   ]
  },
  {
   "cell_type": "code",
   "execution_count": null,
   "metadata": {
    "collapsed": false,
    "deletable": true,
    "editable": true
   },
   "outputs": [],
   "source": [
    "from IPython.display import IFrame\n",
    "IFrame('http://lasagne.readthedocs.io/en/latest/', width=900, height=350)"
   ]
  },
  {
   "cell_type": "markdown",
   "metadata": {
    "deletable": true,
    "editable": true
   },
   "source": [
    "# Clasifiquemos el tipo de nave que aparece en la imagen!"
   ]
  },
  {
   "cell_type": "code",
   "execution_count": null,
   "metadata": {
    "collapsed": false,
    "deletable": true,
    "editable": true
   },
   "outputs": [],
   "source": [
    "from IPython.display import Image\n",
    "Image(filename='../images/ships.png') "
   ]
  },
  {
   "cell_type": "markdown",
   "metadata": {
    "deletable": true,
    "editable": true
   },
   "source": [
    "# Cómo son nuestros datos de entrada?\n",
    "![alt text](images/dataset.png)"
   ]
  },
  {
   "cell_type": "markdown",
   "metadata": {
    "deletable": true,
    "editable": true
   },
   "source": [
    "### Cargando Imágenes a un Dataframe"
   ]
  },
  {
   "cell_type": "code",
   "execution_count": 1,
   "metadata": {
    "collapsed": false,
    "deletable": true,
    "editable": true
   },
   "outputs": [],
   "source": [
    "import os\n",
    "import pandas as pd\n",
    "import cv2"
   ]
  },
  {
   "cell_type": "code",
   "execution_count": 2,
   "metadata": {
    "collapsed": false,
    "deletable": true,
    "editable": true
   },
   "outputs": [],
   "source": [
    "def images_to_file(path_to_photos):\n",
    "    \"\"\" \"\"\"\n",
    "    ids = [os.path.splitext(image_id)[0] for image_id in os.listdir(path_to_photos)]\n",
    "    df_out = pd.DataFrame(columns=['Image', 'Model', 'Model_enc'], index=ids)\n",
    "    for image_file in os.listdir(path_to_photos):\n",
    "            image = cv2.imread(os.path.join(path_to_photos, image_file), 0)\n",
    "            df_out['Image'][os.path.splitext(image_file)[0]] = ' '.join(map(str, image.flatten()))\n",
    "            df_out['Model'][os.path.splitext(image_file)[0]] = image_file.split('_')[0]\n",
    "       \n",
    "    catenc = pd.factorize(df_out['Model'])\n",
    "    df_out['Model_enc'] = catenc[0]\n",
    "    print(catenc)\n",
    "    df_out.to_csv('../star_wars_data.csv')\n",
    "    \n",
    "    return df_out"
   ]
  },
  {
   "cell_type": "code",
   "execution_count": null,
   "metadata": {
    "collapsed": false,
    "deletable": true,
    "editable": true
   },
   "outputs": [],
   "source": [
    "images_to_file(\"data/all/\")"
   ]
  },
  {
   "cell_type": "markdown",
   "metadata": {
    "deletable": true,
    "editable": true
   },
   "source": [
    "### Cómo quedo el archivo que generamos?"
   ]
  },
  {
   "cell_type": "code",
   "execution_count": null,
   "metadata": {
    "collapsed": false,
    "deletable": true,
    "editable": true
   },
   "outputs": [],
   "source": [
    "!tail ../star_wars_data.csv"
   ]
  },
  {
   "cell_type": "markdown",
   "metadata": {
    "deletable": true,
    "editable": true
   },
   "source": [
    "### Ahora a darle formato a nuestros datos para nuestra red ..."
   ]
  },
  {
   "cell_type": "code",
   "execution_count": 3,
   "metadata": {
    "collapsed": true,
    "deletable": true,
    "editable": true
   },
   "outputs": [],
   "source": [
    "import numpy as np\n",
    "from sklearn.utils import shuffle"
   ]
  },
  {
   "cell_type": "code",
   "execution_count": 4,
   "metadata": {
    "collapsed": true,
    "deletable": true,
    "editable": true
   },
   "outputs": [],
   "source": [
    "def load(images_dir=\"data/all/\"):\n",
    "    \"\"\"Load images and target class for Falcon, Lambda and K-wing ships.\"\"\"\n",
    "    df = images_to_file(images_dir)\n",
    "    df['Image'] = df['Image'].apply(lambda im: np.fromstring(im, sep=' '))\n",
    "\n",
    "    X = np.vstack(df['Image'].values) / 255.  # scale pixel values to [0, 1]\n",
    "    X = X.astype(np.float32)\n",
    "\n",
    "    y = df['Model_enc'].values\n",
    "    X, y = shuffle(X, y, random_state=42)\n",
    "    y = y.astype(np.int32)\n",
    "    \n",
    "    return X, y"
   ]
  },
  {
   "cell_type": "markdown",
   "metadata": {
    "deletable": true,
    "editable": true
   },
   "source": [
    "### Qué necesitamos para armar nuestras redes ??"
   ]
  },
  {
   "cell_type": "code",
   "execution_count": 5,
   "metadata": {
    "collapsed": false,
    "deletable": true,
    "editable": true
   },
   "outputs": [
    {
     "name": "stderr",
     "output_type": "stream",
     "text": [
      "Using gpu device 0: GeForce GTX 860M (CNMeM is disabled, CuDNN not available)\n",
      "/usr/lib/python3.6/site-packages/sklearn/cross_validation.py:41: DeprecationWarning: This module was deprecated in version 0.18 in favor of the model_selection module into which all the refactored classes and functions are moved. Also note that the interface of the new CV iterators are different from that of this module. This module will be removed in 0.20.\n",
      "  \"This module will be removed in 0.20.\", DeprecationWarning)\n"
     ]
    }
   ],
   "source": [
    "import theano\n",
    "import lasagne\n",
    "from lasagne.updates import nesterov_momentum\n",
    "from nolearn.lasagne import NeuralNet\n",
    "from lasagne.layers import InputLayer, Conv2DLayer, DropoutLayer,\\\n",
    "                           MaxPool2DLayer, DenseLayer\n",
    "from lasagne.objectives import categorical_crossentropy\n",
    "from nolearn.lasagne import BatchIterator\n"
   ]
  },
  {
   "cell_type": "markdown",
   "metadata": {
    "deletable": true,
    "editable": true
   },
   "source": [
    "### Cómo se define la arquitectura de nuestra red ?!"
   ]
  },
  {
   "cell_type": "code",
   "execution_count": 6,
   "metadata": {
    "collapsed": false,
    "deletable": true,
    "editable": true
   },
   "outputs": [],
   "source": [
    "def create_net(max_epochs=100):\n",
    "    return NeuralNet(\n",
    "        layers=[\n",
    "                (InputLayer, {'shape': (None, 1, 128, 128)}),\n",
    "                (Conv2DLayer, {'num_filters': 16, 'filter_size': 3, 'W': lasagne.init.GlorotUniform()}),\n",
    "                (MaxPool2DLayer, {'pool_size': 2}),\n",
    "                # (DropoutLayer, {'p': 0.5}),\n",
    "                (Conv2DLayer, {'num_filters': 16, 'filter_size': 3, 'W': lasagne.init.GlorotUniform()}),\n",
    "                (MaxPool2DLayer, {'pool_size': 2}),\n",
    "                (DenseLayer, {'num_units': 100, 'nonlinearity': lasagne.nonlinearities.rectify}),\n",
    "                (DropoutLayer, {'p': 0.5}),\n",
    "                (DenseLayer, {'num_units': 3, 'nonlinearity': lasagne.nonlinearities.softmax}),\n",
    "        ],\n",
    "        update=nesterov_momentum,\n",
    "        update_learning_rate=0.03,\n",
    "        update_momentum=0.9,\n",
    "        regression=False,\n",
    "        objective_loss_function=categorical_crossentropy,\n",
    "        #batch_iterator_train=BatchIterator(batch_size=512),\n",
    "        #on_epoch_finished=[\n",
    "        #    AdjustVariable('update_learning_rate', start=0.03, stop=0.001),\n",
    "        #    AdjustVariable('update_momentum', start=0.9, stop=0.9999)  # ,\n",
    "        #],\n",
    "        max_epochs=max_epochs,\n",
    "        verbose=1)"
   ]
  },
  {
   "cell_type": "markdown",
   "metadata": {
    "deletable": true,
    "editable": true
   },
   "source": [
    "### Tuneando hiperparámetros\n",
    "\n",
    "Alguno de los parametros más importantes a la hora de entrenar nuestra red son:\n",
    " - La estructura de la red\n",
    " - La tasa de aprendizaje, tipos de actualización\n",
    " - La inicialización de los pesos W\n",
    " - Regularización\n",
    " \n",
    "\n",
    "![alt text](images/split.png \"http://onlinelibrary.wiley.com/doi/10.15252/msb.20156651/full\")\n",
    "Imagen de [Deep learning for computational biology](http://onlinelibrary.wiley.com/doi/10.15252/msb.20156651/full)"
   ]
  },
  {
   "cell_type": "code",
   "execution_count": 8,
   "metadata": {
    "collapsed": false,
    "deletable": true,
    "editable": true
   },
   "outputs": [
    {
     "name": "stdout",
     "output_type": "stream",
     "text": [
      "(array([0, 1, 1, ..., 0, 0, 1]), Index(['falcon', 'lambda', 'kwing'], dtype='object'))\n",
      "(2924, 1, 128, 128)\n"
     ]
    }
   ],
   "source": [
    "from sklearn.cross_validation import train_test_split\n",
    "x, y = load(\"../data/all\")\n",
    "x = x.reshape(-1, 1, 128, 128)\n",
    "X_train, X_test, y_train, y_test = train_test_split(x, y,\n",
    "                                                    test_size=0.3,\n",
    "                                                    random_state=42)\n",
    "print(X_train.shape)"
   ]
  },
  {
   "cell_type": "code",
   "execution_count": 9,
   "metadata": {
    "collapsed": false,
    "deletable": true,
    "editable": true
   },
   "outputs": [
    {
     "name": "stdout",
     "output_type": "stream",
     "text": [
      "# Neural Network with 1442883 learnable parameters\n",
      "\n",
      "## Layer information\n",
      "\n",
      "  #  name        size\n",
      "---  ----------  ----------\n",
      "  0  input0      1x128x128\n",
      "  1  conv2d1     16x126x126\n",
      "  2  maxpool2d2  16x63x63\n",
      "  3  conv2d3     16x61x61\n",
      "  4  maxpool2d4  16x30x30\n",
      "  5  dense5      100\n",
      "  6  dropout6    100\n",
      "  7  dense7      3\n",
      "\n",
      "  epoch    trn loss    val loss    trn/val    valid acc  dur\n",
      "-------  ----------  ----------  ---------  -----------  -----\n",
      "      1     \u001b[36m1.09775\u001b[0m     \u001b[32m1.05957\u001b[0m    1.03603      0.53333  3.26s\n",
      "      2     \u001b[36m1.01670\u001b[0m     \u001b[32m0.90294\u001b[0m    1.12598      0.67179  3.25s\n",
      "      3     \u001b[36m0.85792\u001b[0m     \u001b[32m0.67382\u001b[0m    1.27321      0.77778  3.25s\n",
      "      4     \u001b[36m0.65006\u001b[0m     \u001b[32m0.49767\u001b[0m    1.30620      0.82906  3.25s\n",
      "      5     \u001b[36m0.49347\u001b[0m     \u001b[32m0.32078\u001b[0m    1.53831      0.89231  3.25s\n",
      "      6     \u001b[36m0.38140\u001b[0m     \u001b[32m0.28255\u001b[0m    1.34986      0.89573  3.25s\n",
      "      7     \u001b[36m0.29168\u001b[0m     \u001b[32m0.15968\u001b[0m    1.82663      0.94359  3.28s\n",
      "      8     \u001b[36m0.23211\u001b[0m     0.18805    1.23428      0.93333  3.28s\n",
      "      9     \u001b[36m0.19247\u001b[0m     \u001b[32m0.14150\u001b[0m    1.36022      0.95043  3.24s\n",
      "     10     \u001b[36m0.15544\u001b[0m     \u001b[32m0.10355\u001b[0m    1.50108      0.96068  3.26s\n",
      "     11     \u001b[36m0.10370\u001b[0m     \u001b[32m0.08828\u001b[0m    1.17470      0.96581  3.26s\n",
      "     12     \u001b[36m0.10133\u001b[0m     0.10649    0.95153      0.96410  3.24s\n",
      "     13     \u001b[36m0.08160\u001b[0m     \u001b[32m0.07288\u001b[0m    1.11964      0.97607  3.26s\n",
      "     14     \u001b[36m0.07176\u001b[0m     0.09102    0.78839      0.98291  3.25s\n",
      "     15     0.07551     \u001b[32m0.05825\u001b[0m    1.29632      0.98462  3.26s\n",
      "     16     \u001b[36m0.06973\u001b[0m     0.07320    0.95259      0.97949  3.28s\n",
      "     17     \u001b[36m0.05100\u001b[0m     0.07454    0.68423      0.97949  3.29s\n",
      "     18     0.05364     \u001b[32m0.05788\u001b[0m    0.92670      0.98291  3.25s\n",
      "     19     0.05185     0.06366    0.81451      0.98291  3.27s\n",
      "     20     \u001b[36m0.04345\u001b[0m     0.06779    0.64085      0.98462  3.27s\n"
     ]
    },
    {
     "data": {
      "text/plain": [
       "NeuralNet(X_tensor_type=None,\n",
       "     batch_iterator_test=<nolearn.lasagne.base.BatchIterator object at 0x7fb27c632550>,\n",
       "     batch_iterator_train=<nolearn.lasagne.base.BatchIterator object at 0x7fb27c632518>,\n",
       "     check_input=True, custom_scores=None,\n",
       "     layers=[(<class 'lasagne.layers.input.InputLayer'>, {'shape': (None, 1, 128, 128)}), (<class 'lasagne.layers.conv.Conv2DLayer'>, {'num_filters': 16, 'filter_size': 3, 'W': <lasagne.init.GlorotUniform object at 0x7fb27c09e7f0>}), (<class 'lasagne.layers.pool.MaxPool2DLayer'>, {'pool_size': 2}), (<cla....layers.dense.DenseLayer'>, {'num_units': 3, 'nonlinearity': <function softmax at 0x7fb27c7adc80>})],\n",
       "     loss=None, max_epochs=20, more_params={},\n",
       "     objective=<function objective at 0x7fb27c090598>,\n",
       "     objective_loss_function=<function categorical_crossentropy at 0x7fb27c67de18>,\n",
       "     on_batch_finished=[],\n",
       "     on_epoch_finished=[<nolearn.lasagne.handlers.PrintLog object at 0x7fb27c09e710>],\n",
       "     on_training_finished=[],\n",
       "     on_training_started=[<nolearn.lasagne.handlers.PrintLayerInfo object at 0x7fb27c09e748>],\n",
       "     regression=False, scores_train=[], scores_valid=[],\n",
       "     train_split=<nolearn.lasagne.base.TrainSplit object at 0x7fb2ac0efba8>,\n",
       "     update=<function nesterov_momentum at 0x7fb27c67e9d8>,\n",
       "     update_learning_rate=0.03, update_momentum=0.9,\n",
       "     use_label_encoder=False, verbose=1,\n",
       "     y_tensor_type=TensorType(int32, vector))"
      ]
     },
     "execution_count": 9,
     "metadata": {},
     "output_type": "execute_result"
    }
   ],
   "source": [
    "net = create_net(20)\n",
    "net.fit(X_train, y_train)"
   ]
  },
  {
   "cell_type": "markdown",
   "metadata": {
    "deletable": true,
    "editable": true
   },
   "source": [
    "#### Y para chequear nuestros resultados??"
   ]
  },
  {
   "cell_type": "code",
   "execution_count": 10,
   "metadata": {
    "collapsed": false,
    "deletable": true,
    "editable": true
   },
   "outputs": [],
   "source": [
    "from sklearn.metrics import classification_report\n",
    "from sklearn.metrics import confusion_matrix\n",
    "from nolearn.lasagne import visualize"
   ]
  },
  {
   "cell_type": "code",
   "execution_count": 12,
   "metadata": {
    "collapsed": false,
    "deletable": true,
    "editable": true
   },
   "outputs": [
    {
     "name": "stdout",
     "output_type": "stream",
     "text": [
      "             precision    recall  f1-score   support\n",
      "\n",
      "          0       0.98      0.99      0.98       330\n",
      "          1       0.99      0.97      0.98       473\n",
      "          2       0.98      0.99      0.99       451\n",
      "\n",
      "avg / total       0.98      0.98      0.98      1254\n",
      "\n"
     ]
    }
   ],
   "source": [
    "print(classification_report(y_test, net.predict(X_test)))"
   ]
  },
  {
   "cell_type": "code",
   "execution_count": 13,
   "metadata": {
    "collapsed": false,
    "deletable": true,
    "editable": true
   },
   "outputs": [
    {
     "data": {
      "image/jpeg": "[encoded data removed]",
      "text/plain": [
       "<IPython.core.display.Image object>"
      ]
     },
     "execution_count": 13,
     "metadata": {},
     "output_type": "execute_result"
    }
   ],
   "source": [
    "from IPython.display import Image\n",
    "Image(filename='../images/overfitting.jpg') "
   ]
  },
  {
   "cell_type": "code",
   "execution_count": 14,
   "metadata": {
    "collapsed": false,
    "deletable": true,
    "editable": true
   },
   "outputs": [],
   "source": [
    "import matplotlib\n",
    "import matplotlib.pyplot as plt\n",
    "import matplotlib.cm as cm"
   ]
  },
  {
   "cell_type": "markdown",
   "metadata": {
    "deletable": true,
    "editable": true
   },
   "source": [
    "#### Chequeando nuestro *learning rate*\n",
    "\n",
    "![alt text](images/lr.png \"http://onlinelibrary.wiley.com/doi/10.15252/msb.20156651/full\")\n",
    "Imagen de [Deep learning for computational biology](http://onlinelibrary.wiley.com/doi/10.15252/msb.20156651/full)"
   ]
  },
  {
   "cell_type": "code",
   "execution_count": 15,
   "metadata": {
    "collapsed": false,
    "deletable": true,
    "editable": true
   },
   "outputs": [
    {
     "data": {
      "text/plain": [
       "<module 'matplotlib.pyplot' from '/usr/lib/python3.6/site-packages/matplotlib/pyplot.py'>"
      ]
     },
     "execution_count": 15,
     "metadata": {},
     "output_type": "execute_result"
    },
    {
     "data": {
      "image/png": "[encoded data removed]",
      "text/plain": [
       "<matplotlib.figure.Figure at 0x7fb23b7d72b0>"
      ]
     },
     "metadata": {},
     "output_type": "display_data"
    }
   ],
   "source": [
    "%matplotlib inline\n",
    "visualize.plot_loss(net)\n"
   ]
  },
  {
   "cell_type": "markdown",
   "metadata": {
    "deletable": true,
    "editable": true
   },
   "source": [
    "#### Cómo le fue a nuestra red entrenada en cuanto a clasificación de nuevas naves?\n",
    "![alt text](images/confusion_matrix.png)"
   ]
  },
  {
   "cell_type": "code",
   "execution_count": 16,
   "metadata": {
    "collapsed": false,
    "deletable": true,
    "editable": true
   },
   "outputs": [],
   "source": [
    "def plot_matrix(clf, X_test, y_test):\n",
    "    \"\"\"Plot Confussion Matrix from a given classifier\"\"\"\n",
    "   \n",
    "    plt.clf()\n",
    "    \n",
    "    cm = confusion_matrix(y_test, clf.predict(X_test))\n",
    "    cm_normalized = cm.astype('float') / cm.sum(axis=1)[:, np.newaxis]\n",
    "    print('Normalized confusion matrix')\n",
    "    cm_normalized[np.isnan(cm_normalized)] = 0.0\n",
    "    print(cm_normalized)\n",
    "    plt.tick_params(labelsize=20)\n",
    "\n",
    "    ax = plt.imshow(cm_normalized, interpolation='nearest', cmap=plt.cm.Reds)\n",
    "    cb = plt.colorbar()\n",
    "    cb.ax.tick_params(axis='both', labelsize=20)\n",
    "    plt.ylabel(\"True label\", fontsize=20)\n",
    "    plt.xlabel(\"Predicted label\", fontsize=20)\n",
    "    plt.xticks(range(3),range(3))\n",
    "    plt.yticks(range(3),range(3))\n",
    "\n"
   ]
  },
  {
   "cell_type": "code",
   "execution_count": 18,
   "metadata": {
    "collapsed": false,
    "deletable": true,
    "editable": true
   },
   "outputs": [
    {
     "name": "stdout",
     "output_type": "stream",
     "text": [
      "Normalized confusion matrix\n",
      "[[ 0.99393939  0.0030303   0.0030303 ]\n",
      " [ 0.01268499  0.97251586  0.01479915]\n",
      " [ 0.00443459  0.00443459  0.99113082]]\n",
      "[[328   1   1]\n",
      " [  6 460   7]\n",
      " [  2   2 447]]\n"
     ]
    },
    {
     "data": {
      "image/png": "[encoded data removed]",
      "text/plain": [
       "<matplotlib.figure.Figure at 0x7fb23f56ecc0>"
      ]
     },
     "metadata": {},
     "output_type": "display_data"
    }
   ],
   "source": [
    "plot_matrix(net, X_test, y_test)\n",
    "print(confusion_matrix(y_test, net.predict(X_test)))"
   ]
  },
  {
   "cell_type": "markdown",
   "metadata": {
    "deletable": true,
    "editable": true
   },
   "source": [
    "### Tengo que entrenar mi red cada vez que quiero usarla?? \n",
    "Como guardar y abrir nuestras redes entrenadas"
   ]
  },
  {
   "cell_type": "code",
   "execution_count": 57,
   "metadata": {
    "collapsed": false,
    "deletable": true,
    "editable": true
   },
   "outputs": [],
   "source": [
    "import pickle\n",
    "\n",
    "with open('../data/ship_classifier.pickle', 'wb') as f:\n",
    "        pickle.dump(net, f, -1)\n"
   ]
  },
  {
   "cell_type": "code",
   "execution_count": 21,
   "metadata": {
    "collapsed": false,
    "deletable": true,
    "editable": true
   },
   "outputs": [],
   "source": [
    "net_loaded = None\n",
    "with open('../data/ship_classifier.pickle', 'rb') as f:\n",
    "       net_loaded = pickle.load(f)"
   ]
  },
  {
   "cell_type": "code",
   "execution_count": 22,
   "metadata": {
    "collapsed": false,
    "deletable": true,
    "editable": true
   },
   "outputs": [
    {
     "name": "stdout",
     "output_type": "stream",
     "text": [
      "# Neural Network with 1442883 learnable parameters\n",
      "\n",
      "## Layer information\n",
      "\n",
      "  #  name        size\n",
      "---  ----------  ----------\n",
      "  0  input0      1x128x128\n",
      "  1  conv2d1     16x126x126\n",
      "  2  maxpool2d2  16x63x63\n",
      "  3  conv2d3     16x61x61\n",
      "  4  maxpool2d4  16x30x30\n",
      "  5  dense5      100\n",
      "  6  dropout6    100\n",
      "  7  dense7      3\n",
      "\n"
     ]
    }
   ],
   "source": [
    "from nolearn.lasagne import PrintLayerInfo\n",
    "layer_info = PrintLayerInfo()\n",
    "\n",
    "net_loaded.verbose = 1\n",
    "net_loaded.initialize()\n",
    "layer_info(net_loaded)"
   ]
  },
  {
   "cell_type": "markdown",
   "metadata": {
    "deletable": true,
    "editable": true
   },
   "source": [
    "### Qué pasa dentro de la red?"
   ]
  },
  {
   "cell_type": "code",
   "execution_count": 23,
   "metadata": {
    "collapsed": false,
    "deletable": true,
    "editable": true
   },
   "outputs": [
    {
     "data": {
      "text/plain": [
       "[(lasagne.layers.input.InputLayer, {'shape': (None, 1, 128, 128)}),\n",
       " (lasagne.layers.conv.Conv2DLayer,\n",
       "  {'W': <lasagne.init.GlorotUniform at 0x7fb27c09e7f0>,\n",
       "   'filter_size': 3,\n",
       "   'num_filters': 16}),\n",
       " (lasagne.layers.pool.MaxPool2DLayer, {'pool_size': 2}),\n",
       " (lasagne.layers.conv.Conv2DLayer,\n",
       "  {'W': <lasagne.init.GlorotUniform at 0x7fb27c09e828>,\n",
       "   'filter_size': 3,\n",
       "   'num_filters': 16}),\n",
       " (lasagne.layers.pool.MaxPool2DLayer, {'pool_size': 2}),\n",
       " (lasagne.layers.dense.DenseLayer,\n",
       "  {'nonlinearity': <function lasagne.nonlinearities.rectify>,\n",
       "   'num_units': 100}),\n",
       " (lasagne.layers.noise.DropoutLayer, {'p': 0.5}),\n",
       " (lasagne.layers.dense.DenseLayer,\n",
       "  {'nonlinearity': <function lasagne.nonlinearities.softmax>, 'num_units': 3})]"
      ]
     },
     "execution_count": 23,
     "metadata": {},
     "output_type": "execute_result"
    }
   ],
   "source": [
    "net.layers"
   ]
  },
  {
   "cell_type": "code",
   "execution_count": 25,
   "metadata": {
    "collapsed": false,
    "deletable": true,
    "editable": true
   },
   "outputs": [
    {
     "data": {
      "image/png": "[encoded data removed]",
      "text/plain": [
       "<matplotlib.figure.Figure at 0x7fb23e1416a0>"
      ]
     },
     "metadata": {},
     "output_type": "display_data"
    }
   ],
   "source": [
    "%matplotlib inline\n",
    "\n",
    "my_image = cv2.imread(\"../data/kwing.jpg\", 0)\n",
    "plt.imshow(my_image, cmap='gray')\n",
    "X = np.vstack(my_image) / 255.\n",
    "plt.imshow(X, cmap='gray')\n",
    "X = X.astype(np.float32)\n",
    "X = X.reshape(-1, 1, 128, 128)"
   ]
  },
  {
   "cell_type": "code",
   "execution_count": 26,
   "metadata": {
    "collapsed": false,
    "deletable": true,
    "editable": true
   },
   "outputs": [
    {
     "data": {
      "text/plain": [
       "array([2])"
      ]
     },
     "execution_count": 26,
     "metadata": {},
     "output_type": "execute_result"
    }
   ],
   "source": [
    "net.predict(X)"
   ]
  },
  {
   "cell_type": "markdown",
   "metadata": {
    "deletable": true,
    "editable": true
   },
   "source": [
    "#### Qué tan segura esta mi red de que identifico  ??"
   ]
  },
  {
   "cell_type": "code",
   "execution_count": 27,
   "metadata": {
    "collapsed": false,
    "deletable": true,
    "editable": true
   },
   "outputs": [
    {
     "data": {
      "text/plain": [
       "(array([[  3.49351234e-04,   1.83892396e-07,   9.99650359e-01]], dtype=float32),\n",
       " 0.99999988)"
      ]
     },
     "execution_count": 27,
     "metadata": {},
     "output_type": "execute_result"
    }
   ],
   "source": [
    "proba = net.predict_proba(X)\n",
    "proba, proba.sum()"
   ]
  },
  {
   "cell_type": "code",
   "execution_count": 28,
   "metadata": {
    "collapsed": false,
    "deletable": true,
    "editable": true
   },
   "outputs": [
    {
     "data": {
      "text/plain": [
       "0.99965036"
      ]
     },
     "execution_count": 28,
     "metadata": {},
     "output_type": "execute_result"
    }
   ],
   "source": [
    "proba[0, np.argmax(proba)]"
   ]
  },
  {
   "cell_type": "markdown",
   "metadata": {
    "deletable": true,
    "editable": true
   },
   "source": [
    "#### Qué pasa si tapamos partes de nuestra imagen?? Que partes son importantes para la clasificación??"
   ]
  },
  {
   "cell_type": "code",
   "execution_count": 29,
   "metadata": {
    "collapsed": false,
    "deletable": true,
    "editable": true
   },
   "outputs": [
    {
     "data": {
      "image/png": "[encoded data removed]",
      "text/plain": [
       "<matplotlib.figure.Figure at 0x7fb23e5d7dd8>"
      ]
     },
     "metadata": {},
     "output_type": "display_data"
    }
   ],
   "source": [
    "h = visualize.plot_occlusion(net, X, [2], square_length=3)"
   ]
  },
  {
   "cell_type": "code",
   "execution_count": 30,
   "metadata": {
    "collapsed": false,
    "deletable": true,
    "editable": true
   },
   "outputs": [
    {
     "data": {
      "text/plain": [
       "<module 'matplotlib.pyplot' from '/usr/lib/python3.6/site-packages/matplotlib/pyplot.py'>"
      ]
     },
     "execution_count": 30,
     "metadata": {},
     "output_type": "execute_result"
    },
    {
     "data": {
      "image/png": "[encoded data removed]",
      "text/plain": [
       "<matplotlib.figure.Figure at 0x7fb23e3dd908>"
      ]
     },
     "metadata": {},
     "output_type": "display_data"
    }
   ],
   "source": [
    "visualize.plot_conv_weights(net.layers_[1])"
   ]
  },
  {
   "cell_type": "code",
   "execution_count": 31,
   "metadata": {
    "collapsed": false,
    "deletable": true,
    "editable": true
   },
   "outputs": [
    {
     "data": {
      "text/plain": [
       "<module 'matplotlib.pyplot' from '/usr/lib/python3.6/site-packages/matplotlib/pyplot.py'>"
      ]
     },
     "execution_count": 31,
     "metadata": {},
     "output_type": "execute_result"
    },
    {
     "data": {
      "image/png": "[encoded data removed]",
      "text/plain": [
       "<matplotlib.figure.Figure at 0x7fb23e3e4358>"
      ]
     },
     "metadata": {},
     "output_type": "display_data"
    }
   ],
   "source": [
    "visualize.plot_conv_activity(net.layers_['conv2d3'], X)"
   ]
  },
  {
   "cell_type": "markdown",
   "metadata": {
    "deletable": true,
    "editable": true
   },
   "source": [
    "### Ahora usemos nuestra red para clasificar desde video!!"
   ]
  },
  {
   "cell_type": "code",
   "execution_count": 32,
   "metadata": {
    "collapsed": false,
    "deletable": true,
    "editable": true
   },
   "outputs": [],
   "source": [
    "tipos_naves = {0: 'Falcon', 1: 'Lambda', 2: 'K-wing'}\n",
    "\n",
    "def format_net(my_image):\n",
    "        X = np.vstack(my_image) / 255.\n",
    "        X = X.astype(np.float32)\n",
    "        X = X.reshape(-1, 1, 128, 128)\n",
    "        \n",
    "        return X"
   ]
  },
  {
   "cell_type": "markdown",
   "metadata": {
    "deletable": true,
    "editable": true
   },
   "source": [
    "#### Mostrando el resultado frame por frame"
   ]
  },
  {
   "cell_type": "code",
   "execution_count": 33,
   "metadata": {
    "collapsed": false,
    "deletable": true,
    "editable": true
   },
   "outputs": [],
   "source": [
    "import time\n",
    "import cv2\n",
    "\n",
    "def classifier_over_video(file_name):\n",
    "    cap = cv2.VideoCapture(file_name)\n",
    "    frames_count = cap.get(7)\n",
    "    \n",
    "    for frame_id in range(int(frames_count)):\n",
    "        ret, frame = cap.read()\n",
    "        frame_ = cv2.cvtColor(frame, cv2.COLOR_RGB2GRAY)\n",
    "        frame_ = cv2.equalizeHist(frame_)\n",
    "        res = cv2.resize(frame_, (128, 128), interpolation = cv2.INTER_CUBIC)\n",
    "        X = format_net(res)\n",
    "        \n",
    "        pred = tipos_naves[net.predict(X)[0]]\n",
    "        proba = net.predict_proba(X)\n",
    "        proba = str(proba[0, np.argmax(proba)])\n",
    "        \n",
    "        font = cv2.FONT_HERSHEY_SIMPLEX\n",
    "        cv2.putText(frame, pred, (10, 500), font, 4, (255,255,255), 2, cv2.LINE_AA)\n",
    "        cv2.putText(frame, proba, (10, 800), font, 4, (255,255,255), 2, cv2.LINE_AA)\n",
    "        \n",
    "        cv2.imshow('frame',frame)\n",
    "        cv2.waitKey(1)\n",
    "        \n",
    "    cap.release()\n",
    "    cv2.destroyAllWindows()"
   ]
  },
  {
   "cell_type": "code",
   "execution_count": 34,
   "metadata": {
    "collapsed": false,
    "deletable": true,
    "editable": true
   },
   "outputs": [],
   "source": [
    "classifier_over_video(\"../data/videos_demo/kwing.mp4\")"
   ]
  },
  {
   "cell_type": "markdown",
   "metadata": {
    "deletable": true,
    "editable": true
   },
   "source": [
    "#### Con una pequeña trampa podemos tener una idea mas estable sobre el video ..."
   ]
  },
  {
   "cell_type": "code",
   "execution_count": 35,
   "metadata": {
    "collapsed": false,
    "deletable": true,
    "editable": true
   },
   "outputs": [],
   "source": [
    "import time\n",
    "import cv2\n",
    "from collections import Counter\n",
    "\n",
    "def classifier_over_video_most_common(file_name):\n",
    "    cap = cv2.VideoCapture(file_name)\n",
    "    frames_count = cap.get(7)\n",
    "    clase = []\n",
    "    \n",
    "    for frame_id in range(int(frames_count)):\n",
    "        ret, frame = cap.read()\n",
    "        frame_ = cv2.cvtColor(frame, cv2.COLOR_RGB2GRAY)\n",
    "        frame_ = cv2.equalizeHist(frame_)\n",
    "        res = cv2.resize(frame_, (128, 128), interpolation = cv2.INTER_CUBIC)\n",
    "        X = format_net(res)\n",
    "        clase.append(net.predict(X)[0])\n",
    "        font = cv2.FONT_HERSHEY_SIMPLEX\n",
    "        mi_nave_frecuente = Counter(clase).most_common(1)[0][0]\n",
    "        cv2.putText(frame, tipos_naves[mi_nave_frecuente], (10,500), font, 4,(255,255,255), 2, cv2.LINE_AA)\n",
    "        cv2.imshow('frame', frame)\n",
    "        cv2.waitKey(1)\n",
    "        \n",
    "    cap.release()\n",
    "    cv2.destroyAllWindows()"
   ]
  },
  {
   "cell_type": "code",
   "execution_count": 37,
   "metadata": {
    "collapsed": false,
    "deletable": true,
    "editable": true
   },
   "outputs": [],
   "source": [
    "classifier_over_video_most_common(\"../data/videos_demo/kwing.mp4\")"
   ]
  },
  {
   "cell_type": "markdown",
   "metadata": {
    "deletable": true,
    "editable": true
   },
   "source": [
    "### Ahora armemos una red para regresion"
   ]
  },
  {
   "cell_type": "code",
   "execution_count": 38,
   "metadata": {
    "collapsed": true,
    "deletable": true,
    "editable": true
   },
   "outputs": [],
   "source": [
    "import os\n",
    "import cv2\n",
    "import pandas as pd\n",
    "import numpy as np\n",
    "from sklearn.cross_validation import train_test_split"
   ]
  },
  {
   "cell_type": "code",
   "execution_count": 39,
   "metadata": {
    "collapsed": false,
    "deletable": true,
    "editable": true
   },
   "outputs": [
    {
     "data": {
      "text/html": [
       "<div>\n",
       "<style>\n",
       "    .dataframe thead tr:only-child th {\n",
       "        text-align: right;\n",
       "    }\n",
       "\n",
       "    .dataframe thead th {\n",
       "        text-align: left;\n",
       "    }\n",
       "\n",
       "    .dataframe tbody tr th {\n",
       "        vertical-align: top;\n",
       "    }\n",
       "</style>\n",
       "<table border=\"1\" class=\"dataframe\">\n",
       "  <thead>\n",
       "    <tr style=\"text-align: right;\">\n",
       "      <th></th>\n",
       "      <th>annotations</th>\n",
       "      <th>class</th>\n",
       "      <th>filename</th>\n",
       "    </tr>\n",
       "  </thead>\n",
       "  <tbody>\n",
       "    <tr>\n",
       "      <th>0</th>\n",
       "      <td>[{'class': 'point', 'x': 56.41939339381177, 'y...</td>\n",
       "      <td>image</td>\n",
       "      <td>../Code/star_wars_hackathon/data/all/falcon_00...</td>\n",
       "    </tr>\n",
       "    <tr>\n",
       "      <th>1</th>\n",
       "      <td>[{'class': 'point', 'x': 92.34564389570087, 'y...</td>\n",
       "      <td>image</td>\n",
       "      <td>../Code/star_wars_hackathon/data/all/falcon_00...</td>\n",
       "    </tr>\n",
       "    <tr>\n",
       "      <th>2</th>\n",
       "      <td>[{'class': 'point', 'x': 92.09264213160306, 'y...</td>\n",
       "      <td>image</td>\n",
       "      <td>../Code/star_wars_hackathon/data/all/falcon_00...</td>\n",
       "    </tr>\n",
       "    <tr>\n",
       "      <th>3</th>\n",
       "      <td>[{'class': 'point', 'x': 46.04632106580153, 'y...</td>\n",
       "      <td>image</td>\n",
       "      <td>../Code/star_wars_hackathon/data/all/falcon_00...</td>\n",
       "    </tr>\n",
       "    <tr>\n",
       "      <th>4</th>\n",
       "      <td>[{'class': 'point', 'x': 55.407386337420526, '...</td>\n",
       "      <td>image</td>\n",
       "      <td>../Code/star_wars_hackathon/data/all/falcon_01...</td>\n",
       "    </tr>\n",
       "    <tr>\n",
       "      <th>5</th>\n",
       "      <td>[{'class': 'point', 'x': 56.67239515790958, 'y...</td>\n",
       "      <td>image</td>\n",
       "      <td>../Code/star_wars_hackathon/data/all/falcon_00...</td>\n",
       "    </tr>\n",
       "    <tr>\n",
       "      <th>6</th>\n",
       "      <td>[{'class': 'point', 'x': 95.63466682897241, 'y...</td>\n",
       "      <td>image</td>\n",
       "      <td>../Code/star_wars_hackathon/data/all/falcon_00...</td>\n",
       "    </tr>\n",
       "    <tr>\n",
       "      <th>7</th>\n",
       "      <td>[{'class': 'point', 'x': 95.1286633007768, 'y'...</td>\n",
       "      <td>image</td>\n",
       "      <td>../Code/star_wars_hackathon/data/all/falcon_00...</td>\n",
       "    </tr>\n",
       "    <tr>\n",
       "      <th>8</th>\n",
       "      <td>[{'class': 'point', 'x': 50.34735105546431, 'y...</td>\n",
       "      <td>image</td>\n",
       "      <td>../Code/star_wars_hackathon/data/all/falcon_00...</td>\n",
       "    </tr>\n",
       "    <tr>\n",
       "      <th>9</th>\n",
       "      <td>[{'class': 'point', 'x': 59.202412798887686, '...</td>\n",
       "      <td>image</td>\n",
       "      <td>../Code/star_wars_hackathon/data/all/falcon_02...</td>\n",
       "    </tr>\n",
       "    <tr>\n",
       "      <th>10</th>\n",
       "      <td>[{'class': 'point', 'x': 47.5643316503884, 'y'...</td>\n",
       "      <td>image</td>\n",
       "      <td>../Code/star_wars_hackathon/data/all/falcon_00...</td>\n",
       "    </tr>\n",
       "    <tr>\n",
       "      <th>11</th>\n",
       "      <td>[{'class': 'point', 'x': 94.11665624438555, 'y...</td>\n",
       "      <td>image</td>\n",
       "      <td>../Code/star_wars_hackathon/data/all/falcon_00...</td>\n",
       "    </tr>\n",
       "    <tr>\n",
       "      <th>12</th>\n",
       "      <td>[{'class': 'point', 'x': 96.64667388536365, 'y...</td>\n",
       "      <td>image</td>\n",
       "      <td>../Code/star_wars_hackathon/data/all/falcon_00...</td>\n",
       "    </tr>\n",
       "    <tr>\n",
       "      <th>13</th>\n",
       "      <td>[{'class': 'point', 'x': 50.60035281956212, 'y...</td>\n",
       "      <td>image</td>\n",
       "      <td>../Code/star_wars_hackathon/data/all/falcon_00...</td>\n",
       "    </tr>\n",
       "    <tr>\n",
       "      <th>14</th>\n",
       "      <td>[{'class': 'point', 'x': 44.02230695301905, 'y...</td>\n",
       "      <td>image</td>\n",
       "      <td>../Code/star_wars_hackathon/data/all/falcon_03...</td>\n",
       "    </tr>\n",
       "    <tr>\n",
       "      <th>15</th>\n",
       "      <td>[{'class': 'point', 'x': 48.57633870677964, 'y...</td>\n",
       "      <td>image</td>\n",
       "      <td>../Code/star_wars_hackathon/data/all/falcon_00...</td>\n",
       "    </tr>\n",
       "    <tr>\n",
       "      <th>16</th>\n",
       "      <td>[{'class': 'point', 'x': 95.63466682897241, 'y...</td>\n",
       "      <td>image</td>\n",
       "      <td>../Code/star_wars_hackathon/data/all/falcon_00...</td>\n",
       "    </tr>\n",
       "    <tr>\n",
       "      <th>17</th>\n",
       "      <td>[{'class': 'point', 'x': 95.88766859307022, 'y...</td>\n",
       "      <td>image</td>\n",
       "      <td>../Code/star_wars_hackathon/data/all/falcon_00...</td>\n",
       "    </tr>\n",
       "    <tr>\n",
       "      <th>18</th>\n",
       "      <td>[{'class': 'point', 'x': 49.33534399907307, 'y...</td>\n",
       "      <td>image</td>\n",
       "      <td>../Code/star_wars_hackathon/data/all/falcon_00...</td>\n",
       "    </tr>\n",
       "    <tr>\n",
       "      <th>19</th>\n",
       "      <td>[{'class': 'point', 'x': 51.106356347757746, '...</td>\n",
       "      <td>image</td>\n",
       "      <td>../Code/star_wars_hackathon/data/all/falcon_04...</td>\n",
       "    </tr>\n",
       "    <tr>\n",
       "      <th>20</th>\n",
       "      <td>[{'class': 'point', 'x': 44.52831048121467, 'y...</td>\n",
       "      <td>image</td>\n",
       "      <td>../Code/star_wars_hackathon/data/all/falcon_00...</td>\n",
       "    </tr>\n",
       "    <tr>\n",
       "      <th>21</th>\n",
       "      <td>[{'class': 'point', 'x': 96.39367212126584, 'y...</td>\n",
       "      <td>image</td>\n",
       "      <td>../Code/star_wars_hackathon/data/all/falcon_00...</td>\n",
       "    </tr>\n",
       "    <tr>\n",
       "      <th>22</th>\n",
       "      <td>[{'class': 'point', 'x': 96.14067035716803, 'y...</td>\n",
       "      <td>image</td>\n",
       "      <td>../Code/star_wars_hackathon/data/all/falcon_00...</td>\n",
       "    </tr>\n",
       "    <tr>\n",
       "      <th>23</th>\n",
       "      <td>[{'class': 'point', 'x': 50.0943492913665, 'y'...</td>\n",
       "      <td>image</td>\n",
       "      <td>../Code/star_wars_hackathon/data/all/falcon_00...</td>\n",
       "    </tr>\n",
       "    <tr>\n",
       "      <th>24</th>\n",
       "      <td>[{'class': 'point', 'x': 46.805326358094966, '...</td>\n",
       "      <td>image</td>\n",
       "      <td>../Code/star_wars_hackathon/data/all/falcon_05...</td>\n",
       "    </tr>\n",
       "    <tr>\n",
       "      <th>25</th>\n",
       "      <td>[{'class': 'point', 'x': 47.311329886290586, '...</td>\n",
       "      <td>image</td>\n",
       "      <td>../Code/star_wars_hackathon/data/all/falcon_00...</td>\n",
       "    </tr>\n",
       "    <tr>\n",
       "      <th>26</th>\n",
       "      <td>[{'class': 'point', 'x': 101.95971093141767, '...</td>\n",
       "      <td>image</td>\n",
       "      <td>../Code/star_wars_hackathon/data/all/falcon_00...</td>\n",
       "    </tr>\n",
       "    <tr>\n",
       "      <th>27</th>\n",
       "      <td>[{'class': 'point', 'x': 101.45370740322205, '...</td>\n",
       "      <td>image</td>\n",
       "      <td>../Code/star_wars_hackathon/data/all/falcon_00...</td>\n",
       "    </tr>\n",
       "    <tr>\n",
       "      <th>28</th>\n",
       "      <td>[{'class': 'point', 'x': 50.34735105546431, 'y...</td>\n",
       "      <td>image</td>\n",
       "      <td>../Code/star_wars_hackathon/data/all/falcon_00...</td>\n",
       "    </tr>\n",
       "    <tr>\n",
       "      <th>29</th>\n",
       "      <td>[{'class': 'point', 'x': 47.81733341448621, 'y...</td>\n",
       "      <td>image</td>\n",
       "      <td>../Code/star_wars_hackathon/data/all/falcon_06...</td>\n",
       "    </tr>\n",
       "    <tr>\n",
       "      <th>...</th>\n",
       "      <td>...</td>\n",
       "      <td>...</td>\n",
       "      <td>...</td>\n",
       "    </tr>\n",
       "    <tr>\n",
       "      <th>3736</th>\n",
       "      <td>[]</td>\n",
       "      <td>image</td>\n",
       "      <td>../Code/star_wars_hackathon/data/all/lambda_+9...</td>\n",
       "    </tr>\n",
       "    <tr>\n",
       "      <th>3737</th>\n",
       "      <td>[]</td>\n",
       "      <td>image</td>\n",
       "      <td>../Code/star_wars_hackathon/data/all/lambda_+9...</td>\n",
       "    </tr>\n",
       "    <tr>\n",
       "      <th>3738</th>\n",
       "      <td>[]</td>\n",
       "      <td>image</td>\n",
       "      <td>../Code/star_wars_hackathon/data/all/lambda_+9...</td>\n",
       "    </tr>\n",
       "    <tr>\n",
       "      <th>3739</th>\n",
       "      <td>[]</td>\n",
       "      <td>image</td>\n",
       "      <td>../Code/star_wars_hackathon/data/all/lambda_+9...</td>\n",
       "    </tr>\n",
       "    <tr>\n",
       "      <th>3740</th>\n",
       "      <td>[]</td>\n",
       "      <td>image</td>\n",
       "      <td>../Code/star_wars_hackathon/data/all/lambda_+1...</td>\n",
       "    </tr>\n",
       "    <tr>\n",
       "      <th>3741</th>\n",
       "      <td>[]</td>\n",
       "      <td>image</td>\n",
       "      <td>../Code/star_wars_hackathon/data/all/lambda_+1...</td>\n",
       "    </tr>\n",
       "    <tr>\n",
       "      <th>3742</th>\n",
       "      <td>[]</td>\n",
       "      <td>image</td>\n",
       "      <td>../Code/star_wars_hackathon/data/all/lambda_+1...</td>\n",
       "    </tr>\n",
       "    <tr>\n",
       "      <th>3743</th>\n",
       "      <td>[]</td>\n",
       "      <td>image</td>\n",
       "      <td>../Code/star_wars_hackathon/data/all/lambda_+1...</td>\n",
       "    </tr>\n",
       "    <tr>\n",
       "      <th>3744</th>\n",
       "      <td>[]</td>\n",
       "      <td>image</td>\n",
       "      <td>../Code/star_wars_hackathon/data/all/lambda_+1...</td>\n",
       "    </tr>\n",
       "    <tr>\n",
       "      <th>3745</th>\n",
       "      <td>[]</td>\n",
       "      <td>image</td>\n",
       "      <td>../Code/star_wars_hackathon/data/all/lambda_+1...</td>\n",
       "    </tr>\n",
       "    <tr>\n",
       "      <th>3746</th>\n",
       "      <td>[]</td>\n",
       "      <td>image</td>\n",
       "      <td>../Code/star_wars_hackathon/data/all/lambda_+1...</td>\n",
       "    </tr>\n",
       "    <tr>\n",
       "      <th>3747</th>\n",
       "      <td>[]</td>\n",
       "      <td>image</td>\n",
       "      <td>../Code/star_wars_hackathon/data/all/lambda_+1...</td>\n",
       "    </tr>\n",
       "    <tr>\n",
       "      <th>3748</th>\n",
       "      <td>[]</td>\n",
       "      <td>image</td>\n",
       "      <td>../Code/star_wars_hackathon/data/all/lambda_+1...</td>\n",
       "    </tr>\n",
       "    <tr>\n",
       "      <th>3749</th>\n",
       "      <td>[]</td>\n",
       "      <td>image</td>\n",
       "      <td>../Code/star_wars_hackathon/data/all/lambda_+1...</td>\n",
       "    </tr>\n",
       "    <tr>\n",
       "      <th>3750</th>\n",
       "      <td>[]</td>\n",
       "      <td>image</td>\n",
       "      <td>../Code/star_wars_hackathon/data/all/lambda_+1...</td>\n",
       "    </tr>\n",
       "    <tr>\n",
       "      <th>3751</th>\n",
       "      <td>[]</td>\n",
       "      <td>image</td>\n",
       "      <td>../Code/star_wars_hackathon/data/all/lambda_+1...</td>\n",
       "    </tr>\n",
       "    <tr>\n",
       "      <th>3752</th>\n",
       "      <td>[]</td>\n",
       "      <td>image</td>\n",
       "      <td>../Code/star_wars_hackathon/data/all/lambda_+1...</td>\n",
       "    </tr>\n",
       "    <tr>\n",
       "      <th>3753</th>\n",
       "      <td>[]</td>\n",
       "      <td>image</td>\n",
       "      <td>../Code/star_wars_hackathon/data/all/lambda_+1...</td>\n",
       "    </tr>\n",
       "    <tr>\n",
       "      <th>3754</th>\n",
       "      <td>[]</td>\n",
       "      <td>image</td>\n",
       "      <td>../Code/star_wars_hackathon/data/all/lambda_+1...</td>\n",
       "    </tr>\n",
       "    <tr>\n",
       "      <th>3755</th>\n",
       "      <td>[]</td>\n",
       "      <td>image</td>\n",
       "      <td>../Code/star_wars_hackathon/data/all/lambda_+1...</td>\n",
       "    </tr>\n",
       "    <tr>\n",
       "      <th>3756</th>\n",
       "      <td>[]</td>\n",
       "      <td>image</td>\n",
       "      <td>../Code/star_wars_hackathon/data/all/lambda_+1...</td>\n",
       "    </tr>\n",
       "    <tr>\n",
       "      <th>3757</th>\n",
       "      <td>[]</td>\n",
       "      <td>image</td>\n",
       "      <td>../Code/star_wars_hackathon/data/all/lambda_+1...</td>\n",
       "    </tr>\n",
       "    <tr>\n",
       "      <th>3758</th>\n",
       "      <td>[]</td>\n",
       "      <td>image</td>\n",
       "      <td>../Code/star_wars_hackathon/data/all/lambda_+1...</td>\n",
       "    </tr>\n",
       "    <tr>\n",
       "      <th>3759</th>\n",
       "      <td>[]</td>\n",
       "      <td>image</td>\n",
       "      <td>../Code/star_wars_hackathon/data/all/lambda_+1...</td>\n",
       "    </tr>\n",
       "    <tr>\n",
       "      <th>3760</th>\n",
       "      <td>[]</td>\n",
       "      <td>image</td>\n",
       "      <td>../Code/star_wars_hackathon/data/all/lambda_+1...</td>\n",
       "    </tr>\n",
       "    <tr>\n",
       "      <th>3761</th>\n",
       "      <td>[]</td>\n",
       "      <td>image</td>\n",
       "      <td>../Code/star_wars_hackathon/data/all/lambda_+1...</td>\n",
       "    </tr>\n",
       "    <tr>\n",
       "      <th>3762</th>\n",
       "      <td>[]</td>\n",
       "      <td>image</td>\n",
       "      <td>../Code/star_wars_hackathon/data/all/lambda_+1...</td>\n",
       "    </tr>\n",
       "    <tr>\n",
       "      <th>3763</th>\n",
       "      <td>[]</td>\n",
       "      <td>image</td>\n",
       "      <td>../Code/star_wars_hackathon/data/all/lambda_+1...</td>\n",
       "    </tr>\n",
       "    <tr>\n",
       "      <th>3764</th>\n",
       "      <td>[]</td>\n",
       "      <td>image</td>\n",
       "      <td>../Code/star_wars_hackathon/data/all/lambda_+1...</td>\n",
       "    </tr>\n",
       "    <tr>\n",
       "      <th>3765</th>\n",
       "      <td>[]</td>\n",
       "      <td>image</td>\n",
       "      <td>../Code/star_wars_hackathon/data/all/lambda_+1...</td>\n",
       "    </tr>\n",
       "  </tbody>\n",
       "</table>\n",
       "<p>3766 rows × 3 columns</p>\n",
       "</div>"
      ],
      "text/plain": [
       "                                            annotations  class  \\\n",
       "0     [{'class': 'point', 'x': 56.41939339381177, 'y...  image   \n",
       "1     [{'class': 'point', 'x': 92.34564389570087, 'y...  image   \n",
       "2     [{'class': 'point', 'x': 92.09264213160306, 'y...  image   \n",
       "3     [{'class': 'point', 'x': 46.04632106580153, 'y...  image   \n",
       "4     [{'class': 'point', 'x': 55.407386337420526, '...  image   \n",
       "5     [{'class': 'point', 'x': 56.67239515790958, 'y...  image   \n",
       "6     [{'class': 'point', 'x': 95.63466682897241, 'y...  image   \n",
       "7     [{'class': 'point', 'x': 95.1286633007768, 'y'...  image   \n",
       "8     [{'class': 'point', 'x': 50.34735105546431, 'y...  image   \n",
       "9     [{'class': 'point', 'x': 59.202412798887686, '...  image   \n",
       "10    [{'class': 'point', 'x': 47.5643316503884, 'y'...  image   \n",
       "11    [{'class': 'point', 'x': 94.11665624438555, 'y...  image   \n",
       "12    [{'class': 'point', 'x': 96.64667388536365, 'y...  image   \n",
       "13    [{'class': 'point', 'x': 50.60035281956212, 'y...  image   \n",
       "14    [{'class': 'point', 'x': 44.02230695301905, 'y...  image   \n",
       "15    [{'class': 'point', 'x': 48.57633870677964, 'y...  image   \n",
       "16    [{'class': 'point', 'x': 95.63466682897241, 'y...  image   \n",
       "17    [{'class': 'point', 'x': 95.88766859307022, 'y...  image   \n",
       "18    [{'class': 'point', 'x': 49.33534399907307, 'y...  image   \n",
       "19    [{'class': 'point', 'x': 51.106356347757746, '...  image   \n",
       "20    [{'class': 'point', 'x': 44.52831048121467, 'y...  image   \n",
       "21    [{'class': 'point', 'x': 96.39367212126584, 'y...  image   \n",
       "22    [{'class': 'point', 'x': 96.14067035716803, 'y...  image   \n",
       "23    [{'class': 'point', 'x': 50.0943492913665, 'y'...  image   \n",
       "24    [{'class': 'point', 'x': 46.805326358094966, '...  image   \n",
       "25    [{'class': 'point', 'x': 47.311329886290586, '...  image   \n",
       "26    [{'class': 'point', 'x': 101.95971093141767, '...  image   \n",
       "27    [{'class': 'point', 'x': 101.45370740322205, '...  image   \n",
       "28    [{'class': 'point', 'x': 50.34735105546431, 'y...  image   \n",
       "29    [{'class': 'point', 'x': 47.81733341448621, 'y...  image   \n",
       "...                                                 ...    ...   \n",
       "3736                                                 []  image   \n",
       "3737                                                 []  image   \n",
       "3738                                                 []  image   \n",
       "3739                                                 []  image   \n",
       "3740                                                 []  image   \n",
       "3741                                                 []  image   \n",
       "3742                                                 []  image   \n",
       "3743                                                 []  image   \n",
       "3744                                                 []  image   \n",
       "3745                                                 []  image   \n",
       "3746                                                 []  image   \n",
       "3747                                                 []  image   \n",
       "3748                                                 []  image   \n",
       "3749                                                 []  image   \n",
       "3750                                                 []  image   \n",
       "3751                                                 []  image   \n",
       "3752                                                 []  image   \n",
       "3753                                                 []  image   \n",
       "3754                                                 []  image   \n",
       "3755                                                 []  image   \n",
       "3756                                                 []  image   \n",
       "3757                                                 []  image   \n",
       "3758                                                 []  image   \n",
       "3759                                                 []  image   \n",
       "3760                                                 []  image   \n",
       "3761                                                 []  image   \n",
       "3762                                                 []  image   \n",
       "3763                                                 []  image   \n",
       "3764                                                 []  image   \n",
       "3765                                                 []  image   \n",
       "\n",
       "                                               filename  \n",
       "0     ../Code/star_wars_hackathon/data/all/falcon_00...  \n",
       "1     ../Code/star_wars_hackathon/data/all/falcon_00...  \n",
       "2     ../Code/star_wars_hackathon/data/all/falcon_00...  \n",
       "3     ../Code/star_wars_hackathon/data/all/falcon_00...  \n",
       "4     ../Code/star_wars_hackathon/data/all/falcon_01...  \n",
       "5     ../Code/star_wars_hackathon/data/all/falcon_00...  \n",
       "6     ../Code/star_wars_hackathon/data/all/falcon_00...  \n",
       "7     ../Code/star_wars_hackathon/data/all/falcon_00...  \n",
       "8     ../Code/star_wars_hackathon/data/all/falcon_00...  \n",
       "9     ../Code/star_wars_hackathon/data/all/falcon_02...  \n",
       "10    ../Code/star_wars_hackathon/data/all/falcon_00...  \n",
       "11    ../Code/star_wars_hackathon/data/all/falcon_00...  \n",
       "12    ../Code/star_wars_hackathon/data/all/falcon_00...  \n",
       "13    ../Code/star_wars_hackathon/data/all/falcon_00...  \n",
       "14    ../Code/star_wars_hackathon/data/all/falcon_03...  \n",
       "15    ../Code/star_wars_hackathon/data/all/falcon_00...  \n",
       "16    ../Code/star_wars_hackathon/data/all/falcon_00...  \n",
       "17    ../Code/star_wars_hackathon/data/all/falcon_00...  \n",
       "18    ../Code/star_wars_hackathon/data/all/falcon_00...  \n",
       "19    ../Code/star_wars_hackathon/data/all/falcon_04...  \n",
       "20    ../Code/star_wars_hackathon/data/all/falcon_00...  \n",
       "21    ../Code/star_wars_hackathon/data/all/falcon_00...  \n",
       "22    ../Code/star_wars_hackathon/data/all/falcon_00...  \n",
       "23    ../Code/star_wars_hackathon/data/all/falcon_00...  \n",
       "24    ../Code/star_wars_hackathon/data/all/falcon_05...  \n",
       "25    ../Code/star_wars_hackathon/data/all/falcon_00...  \n",
       "26    ../Code/star_wars_hackathon/data/all/falcon_00...  \n",
       "27    ../Code/star_wars_hackathon/data/all/falcon_00...  \n",
       "28    ../Code/star_wars_hackathon/data/all/falcon_00...  \n",
       "29    ../Code/star_wars_hackathon/data/all/falcon_06...  \n",
       "...                                                 ...  \n",
       "3736  ../Code/star_wars_hackathon/data/all/lambda_+9...  \n",
       "3737  ../Code/star_wars_hackathon/data/all/lambda_+9...  \n",
       "3738  ../Code/star_wars_hackathon/data/all/lambda_+9...  \n",
       "3739  ../Code/star_wars_hackathon/data/all/lambda_+9...  \n",
       "3740  ../Code/star_wars_hackathon/data/all/lambda_+1...  \n",
       "3741  ../Code/star_wars_hackathon/data/all/lambda_+1...  \n",
       "3742  ../Code/star_wars_hackathon/data/all/lambda_+1...  \n",
       "3743  ../Code/star_wars_hackathon/data/all/lambda_+1...  \n",
       "3744  ../Code/star_wars_hackathon/data/all/lambda_+1...  \n",
       "3745  ../Code/star_wars_hackathon/data/all/lambda_+1...  \n",
       "3746  ../Code/star_wars_hackathon/data/all/lambda_+1...  \n",
       "3747  ../Code/star_wars_hackathon/data/all/lambda_+1...  \n",
       "3748  ../Code/star_wars_hackathon/data/all/lambda_+1...  \n",
       "3749  ../Code/star_wars_hackathon/data/all/lambda_+1...  \n",
       "3750  ../Code/star_wars_hackathon/data/all/lambda_+1...  \n",
       "3751  ../Code/star_wars_hackathon/data/all/lambda_+1...  \n",
       "3752  ../Code/star_wars_hackathon/data/all/lambda_+1...  \n",
       "3753  ../Code/star_wars_hackathon/data/all/lambda_+1...  \n",
       "3754  ../Code/star_wars_hackathon/data/all/lambda_+1...  \n",
       "3755  ../Code/star_wars_hackathon/data/all/lambda_+1...  \n",
       "3756  ../Code/star_wars_hackathon/data/all/lambda_+1...  \n",
       "3757  ../Code/star_wars_hackathon/data/all/lambda_+1...  \n",
       "3758  ../Code/star_wars_hackathon/data/all/lambda_+1...  \n",
       "3759  ../Code/star_wars_hackathon/data/all/lambda_+1...  \n",
       "3760  ../Code/star_wars_hackathon/data/all/lambda_+1...  \n",
       "3761  ../Code/star_wars_hackathon/data/all/lambda_+1...  \n",
       "3762  ../Code/star_wars_hackathon/data/all/lambda_+1...  \n",
       "3763  ../Code/star_wars_hackathon/data/all/lambda_+1...  \n",
       "3764  ../Code/star_wars_hackathon/data/all/lambda_+1...  \n",
       "3765  ../Code/star_wars_hackathon/data/all/lambda_+1...  \n",
       "\n",
       "[3766 rows x 3 columns]"
      ]
     },
     "execution_count": 39,
     "metadata": {},
     "output_type": "execute_result"
    }
   ],
   "source": [
    "data_coordinates = pd.read_json(\"../data/landmarks.json\")\n",
    "data_coordinates"
   ]
  },
  {
   "cell_type": "code",
   "execution_count": 40,
   "metadata": {
    "collapsed": false,
    "deletable": true,
    "editable": true
   },
   "outputs": [],
   "source": [
    "annotations = data_coordinates.drop(['class'], axis=1)"
   ]
  },
  {
   "cell_type": "code",
   "execution_count": 41,
   "metadata": {
    "collapsed": false,
    "deletable": true,
    "editable": true
   },
   "outputs": [],
   "source": [
    "for i in range(annotations.shape[0]):\n",
    "    if annotations['annotations'][i] == []:\n",
    "        annotations['annotations'][i] = np.nan"
   ]
  },
  {
   "cell_type": "code",
   "execution_count": 42,
   "metadata": {
    "collapsed": false,
    "deletable": true,
    "editable": true
   },
   "outputs": [
    {
     "data": {
      "text/plain": [
       "((3766, 2), (497, 2))"
      ]
     },
     "execution_count": 42,
     "metadata": {},
     "output_type": "execute_result"
    }
   ],
   "source": [
    "annotations['filename'] = annotations['filename'].apply(lambda x: os.path.basename(x))\n",
    "non_nan = annotations.dropna()\n",
    "annotations.shape, non_nan.shape\n"
   ]
  },
  {
   "cell_type": "code",
   "execution_count": null,
   "metadata": {
    "collapsed": false,
    "deletable": true,
    "editable": true
   },
   "outputs": [],
   "source": [
    "non_nan.index.values"
   ]
  },
  {
   "cell_type": "code",
   "execution_count": 49,
   "metadata": {
    "collapsed": true,
    "deletable": true,
    "editable": true
   },
   "outputs": [],
   "source": [
    "def images_to_file_coordinates():\n",
    "    \"\"\" \"\"\"\n",
    "    ids = non_nan['filename'].values\n",
    "    \n",
    "    df_out = pd.DataFrame(columns=['Image', 'x_0', 'y_0', 'x_1', 'y_1', 'x_2', 'y_2'], index=ids)\n",
    "    for i, image_file in zip(non_nan.index.values, ids):\n",
    "            image = cv2.imread(os.path.join('../data/all', image_file), 0)\n",
    "            df_out['Image'][image_file] = ' '.join(map(str, image.flatten()))\n",
    "            df_out['x_0'][image_file] = non_nan['annotations'][i][0]['x']\n",
    "            df_out['y_0'][image_file] = non_nan['annotations'][i][0]['y']\n",
    "            df_out['x_1'][image_file] = non_nan['annotations'][i][1]['x']\n",
    "            df_out['y_1'][image_file] = non_nan['annotations'][i][1]['y']\n",
    "            df_out['x_2'][image_file] = non_nan['annotations'][i][2]['x']\n",
    "            df_out['y_2'][image_file] = non_nan['annotations'][i][2]['y']\n",
    "    df_out.to_csv('../star_wars_data_coordinates.csv')\n",
    "    return df_out"
   ]
  },
  {
   "cell_type": "code",
   "execution_count": 50,
   "metadata": {
    "collapsed": true,
    "deletable": true,
    "editable": true
   },
   "outputs": [],
   "source": [
    "from sklearn import preprocessing\n",
    "\n",
    "def load_coordinates():\n",
    "    \"\"\"Load images and target class for Falcon, Lambda and K-wing ships.\"\"\"\n",
    "    df = images_to_file_coordinates()\n",
    "    df['Image'] = df['Image'].apply(lambda im: np.fromstring(im, sep=' '))\n",
    "\n",
    "    X = np.vstack(df['Image'].values) / 255.  # scale pixel values to [0, 1]\n",
    "    X = X.astype(np.float32)\n",
    "\n",
    "    y = df[['x_0', 'y_0', 'x_1', 'y_1', 'x_2', 'y_2']].values\n",
    "    \n",
    "    minmax = preprocessing.MinMaxScaler(feature_range=(-1, 1), copy=True)\n",
    "    y = minmax.fit_transform(y)\n",
    "    \n",
    "    X, y = shuffle(X, y, random_state=42)\n",
    "    y = y.astype(np.float32)\n",
    "    \n",
    "    return X, y, minmax"
   ]
  },
  {
   "cell_type": "code",
   "execution_count": 51,
   "metadata": {
    "collapsed": false,
    "deletable": true,
    "editable": true
   },
   "outputs": [
    {
     "name": "stderr",
     "output_type": "stream",
     "text": [
      "/usr/lib/python3.6/site-packages/sklearn/utils/validation.py:444: DataConversionWarning: Data with input dtype object was converted to float64 by MinMaxScaler.\n",
      "  warnings.warn(msg, DataConversionWarning)\n"
     ]
    }
   ],
   "source": [
    "X_coor, y_coor, minmax = load_coordinates()"
   ]
  },
  {
   "cell_type": "markdown",
   "metadata": {
    "deletable": true,
    "editable": true
   },
   "source": [
    "### Extendiendo nuestras redes .. con lasagne ..."
   ]
  },
  {
   "cell_type": "code",
   "execution_count": 52,
   "metadata": {
    "collapsed": true,
    "deletable": true,
    "editable": true
   },
   "outputs": [],
   "source": [
    "from nolearn.lasagne import BatchIterator\n",
    "class FlipBatchIterator(BatchIterator):\n",
    "\n",
    "    def transform(self, Xb, yb):\n",
    "        Xb, yb = super(FlipBatchIterator, self).transform(Xb, yb)\n",
    "\n",
    "        # Flip half of the images in this batch at random:\n",
    "        bs = Xb.shape[0]\n",
    "        indices = np.random.choice(bs, bs/2, replace=False) # /2 choose all\n",
    "        Xb[indices] = Xb[indices, :, :, ::-1]\n",
    "\n",
    "        if yb is not None:\n",
    "            # Horizontal flip of all x coordinates:\n",
    "            yb[indices, ::2] = yb[indices, ::2] * -1\n",
    "\n",
    "        return Xb, yb"
   ]
  },
  {
   "cell_type": "code",
   "execution_count": 53,
   "metadata": {
    "collapsed": true,
    "deletable": true,
    "editable": true
   },
   "outputs": [],
   "source": [
    "class AdjustVariable(object):\n",
    "    def __init__(self, name, start=0.03, stop=0.001):\n",
    "        self.name = name\n",
    "        self.start, self.stop = start, stop\n",
    "        self.ls = None\n",
    "\n",
    "    def __call__(self, nn, train_history):\n",
    "        if self.ls is None:\n",
    "            self.ls = np.linspace(self.start, self.stop, nn.max_epochs)\n",
    "\n",
    "        epoch = train_history[-1]['epoch']\n",
    "        new_value = np.float32(self.ls[epoch - 1])\n",
    "        getattr(nn, self.name).set_value(new_value)"
   ]
  },
  {
   "cell_type": "markdown",
   "metadata": {
    "deletable": true,
    "editable": true
   },
   "source": [
    "### Creamos nuestra red para regresionar ..."
   ]
  },
  {
   "cell_type": "code",
   "execution_count": 54,
   "metadata": {
    "collapsed": false,
    "deletable": true,
    "editable": true
   },
   "outputs": [],
   "source": [
    "from lasagne import layers\n",
    "\n",
    "def create_net_coordinate():\n",
    "    l = layers.InputLayer(shape=(None, 1, 128, 128))\n",
    "    l = layers.Conv2DLayer(l, num_filters= 16, filter_size=(3, 3))\n",
    "    l = layers.MaxPool2DLayer(l, pool_size=2)\n",
    "    #l = layers.DropoutLayer(l, p=0.3)\n",
    "    l = layers.Conv2DLayer(l, num_filters= 16, filter_size=(3, 3))\n",
    "    l = layers.MaxPool2DLayer(l, pool_size=2)\n",
    "    #l = layers.DropoutLayer(l, p=0.4)\n",
    "    l = layers.DenseLayer(l, num_units=1024)\n",
    "    l = layers.DropoutLayer(l, p=0.5)\n",
    "    l = layers.DenseLayer(l, num_units=1024)\n",
    "    l = layers.DenseLayer(l, num_units=6, nonlinearity=None)\n",
    "\n",
    "    return NeuralNet(\n",
    "        l,\n",
    "        update=nesterov_momentum,\n",
    "        update_learning_rate=theano.shared(np.float32(0.03)),\n",
    "        update_momentum=theano.shared(np.float32(0.9)),\n",
    "\n",
    "        regression=True,\n",
    "        #batch_iterator_train=FlipBatchIterator(batch_size=75),\n",
    "        #on_epoch_finished=[\n",
    "        #    AdjustVariable('update_learning_rate', start=0.06, stop=0.006),\n",
    "        #    AdjustVariable('update_momentum', start=0.9, stop=0.9999)  # ,\n",
    "        #],\n",
    "        max_epochs=100,\n",
    "        verbose=1)"
   ]
  },
  {
   "cell_type": "code",
   "execution_count": 55,
   "metadata": {
    "collapsed": false,
    "deletable": true,
    "editable": true
   },
   "outputs": [],
   "source": [
    "X_coor = X_coor.reshape(-1, 1, 128, 128)\n",
    "X_train, X_test, y_train, y_test = train_test_split(X_coor, y_coor,\n",
    "                                                            test_size=0.25,\n",
    "                                                            random_state=42)\n",
    "net_coor = create_net_coordinate()"
   ]
  },
  {
   "cell_type": "code",
   "execution_count": 56,
   "metadata": {
    "collapsed": false,
    "deletable": true,
    "editable": true
   },
   "outputs": [
    {
     "name": "stdout",
     "output_type": "stream",
     "text": [
      "# Neural Network with 15804854 learnable parameters\n",
      "\n",
      "## Layer information\n",
      "\n",
      "  #  name    size\n",
      "---  ------  ----------\n",
      "  0          1x128x128\n",
      "  1          16x126x126\n",
      "  2          16x63x63\n",
      "  3          16x61x61\n",
      "  4          16x30x30\n",
      "  5          1024\n",
      "  6          1024\n",
      "  7          1024\n",
      "  8          6\n",
      "\n",
      "  epoch    trn loss    val loss    trn/val  dur\n",
      "-------  ----------  ----------  ---------  -----\n",
      "      1     \u001b[36m0.16482\u001b[0m     \u001b[32m0.16203\u001b[0m    1.01720  0.48s\n",
      "      2     \u001b[36m0.15626\u001b[0m     \u001b[32m0.16005\u001b[0m    0.97627  0.47s\n",
      "      3     \u001b[36m0.15187\u001b[0m     \u001b[32m0.15752\u001b[0m    0.96410  0.47s\n",
      "      4     \u001b[36m0.14725\u001b[0m     \u001b[32m0.15393\u001b[0m    0.95658  0.47s\n",
      "      5     \u001b[36m0.14246\u001b[0m     \u001b[32m0.14717\u001b[0m    0.96803  0.47s\n",
      "      6     \u001b[36m0.13396\u001b[0m     \u001b[32m0.13821\u001b[0m    0.96928  0.49s\n",
      "      7     \u001b[36m0.12158\u001b[0m     \u001b[32m0.13109\u001b[0m    0.92752  0.47s\n",
      "      8     \u001b[36m0.11482\u001b[0m     \u001b[32m0.12526\u001b[0m    0.91669  0.48s\n",
      "      9     \u001b[36m0.10752\u001b[0m     \u001b[32m0.11584\u001b[0m    0.92813  0.47s\n",
      "     10     \u001b[36m0.09311\u001b[0m     \u001b[32m0.10980\u001b[0m    0.84797  0.47s\n",
      "     11     \u001b[36m0.08622\u001b[0m     \u001b[32m0.10332\u001b[0m    0.83450  0.47s\n",
      "     12     \u001b[36m0.07948\u001b[0m     \u001b[32m0.09658\u001b[0m    0.82286  0.48s\n",
      "     13     \u001b[36m0.07517\u001b[0m     \u001b[32m0.09207\u001b[0m    0.81643  0.48s\n",
      "     14     \u001b[36m0.07058\u001b[0m     \u001b[32m0.08758\u001b[0m    0.80587  0.47s\n",
      "     15     \u001b[36m0.06426\u001b[0m     \u001b[32m0.08212\u001b[0m    0.78250  0.47s\n",
      "     16     \u001b[36m0.06028\u001b[0m     \u001b[32m0.07647\u001b[0m    0.78838  0.47s\n",
      "     17     \u001b[36m0.05891\u001b[0m     \u001b[32m0.07269\u001b[0m    0.81053  0.47s\n",
      "     18     \u001b[36m0.05494\u001b[0m     \u001b[32m0.06936\u001b[0m    0.79205  0.47s\n",
      "     19     \u001b[36m0.04923\u001b[0m     \u001b[32m0.06329\u001b[0m    0.77792  0.47s\n",
      "     20     \u001b[36m0.04644\u001b[0m     \u001b[32m0.06056\u001b[0m    0.76679  0.47s\n",
      "     21     \u001b[36m0.04287\u001b[0m     \u001b[32m0.05587\u001b[0m    0.76735  0.47s\n",
      "     22     \u001b[36m0.04077\u001b[0m     \u001b[32m0.05353\u001b[0m    0.76158  0.47s\n",
      "     23     \u001b[36m0.03760\u001b[0m     \u001b[32m0.05087\u001b[0m    0.73910  0.47s\n",
      "     24     \u001b[36m0.03568\u001b[0m     \u001b[32m0.04828\u001b[0m    0.73916  0.47s\n",
      "     25     \u001b[36m0.03328\u001b[0m     \u001b[32m0.04654\u001b[0m    0.71516  0.47s\n",
      "     26     \u001b[36m0.03211\u001b[0m     \u001b[32m0.04562\u001b[0m    0.70388  0.47s\n",
      "     27     \u001b[36m0.03135\u001b[0m     \u001b[32m0.04338\u001b[0m    0.72276  0.47s\n",
      "     28     \u001b[36m0.02744\u001b[0m     \u001b[32m0.04121\u001b[0m    0.66576  0.47s\n",
      "     29     \u001b[36m0.02703\u001b[0m     \u001b[32m0.04042\u001b[0m    0.66881  0.47s\n",
      "     30     \u001b[36m0.02574\u001b[0m     \u001b[32m0.03950\u001b[0m    0.65182  0.47s\n",
      "     31     0.02716     \u001b[32m0.03843\u001b[0m    0.70661  0.47s\n",
      "     32     \u001b[36m0.02480\u001b[0m     \u001b[32m0.03747\u001b[0m    0.66184  0.47s\n",
      "     33     \u001b[36m0.02328\u001b[0m     \u001b[32m0.03595\u001b[0m    0.64757  0.47s\n",
      "     34     \u001b[36m0.02182\u001b[0m     0.03601    0.60588  0.47s\n",
      "     35     \u001b[36m0.02041\u001b[0m     \u001b[32m0.03494\u001b[0m    0.58408  0.47s\n",
      "     36     0.02052     \u001b[32m0.03432\u001b[0m    0.59803  0.47s\n",
      "     37     \u001b[36m0.01884\u001b[0m     0.03454    0.54550  0.47s\n",
      "     38     0.01990     \u001b[32m0.03355\u001b[0m    0.59327  0.47s\n",
      "     39     0.01937     0.03360    0.57637  0.47s\n",
      "     40     \u001b[36m0.01880\u001b[0m     \u001b[32m0.03295\u001b[0m    0.57050  0.47s\n",
      "     41     \u001b[36m0.01707\u001b[0m     0.03351    0.50926  0.47s\n",
      "     42     \u001b[36m0.01682\u001b[0m     \u001b[32m0.03224\u001b[0m    0.52177  0.47s\n",
      "     43     \u001b[36m0.01639\u001b[0m     \u001b[32m0.03214\u001b[0m    0.50984  0.47s\n",
      "     44     0.01673     \u001b[32m0.03156\u001b[0m    0.53015  0.47s\n",
      "     45     \u001b[36m0.01614\u001b[0m     \u001b[32m0.03049\u001b[0m    0.52933  0.47s\n",
      "     46     \u001b[36m0.01557\u001b[0m     \u001b[32m0.03033\u001b[0m    0.51340  0.47s\n",
      "     47     0.01641     \u001b[32m0.02977\u001b[0m    0.55118  0.47s\n",
      "     48     \u001b[36m0.01552\u001b[0m     \u001b[32m0.02973\u001b[0m    0.52204  0.47s\n",
      "     49     \u001b[36m0.01346\u001b[0m     0.03031    0.44389  0.47s\n",
      "     50     0.01401     0.03018    0.46413  0.47s\n",
      "     51     0.01442     0.03120    0.46238  0.47s\n",
      "     52     0.01421     0.03020    0.47053  0.47s\n",
      "     53     0.01373     \u001b[32m0.02960\u001b[0m    0.46380  0.47s\n",
      "     54     0.01380     \u001b[32m0.02951\u001b[0m    0.46745  0.47s\n",
      "     55     0.01359     \u001b[32m0.02871\u001b[0m    0.47345  0.47s\n",
      "     56     \u001b[36m0.01248\u001b[0m     \u001b[32m0.02860\u001b[0m    0.43659  0.47s\n",
      "     57     \u001b[36m0.01199\u001b[0m     \u001b[32m0.02836\u001b[0m    0.42267  0.47s\n",
      "     58     0.01212     \u001b[32m0.02835\u001b[0m    0.42738  0.47s\n",
      "     59     0.01278     \u001b[32m0.02809\u001b[0m    0.45487  0.47s\n",
      "     60     0.01273     0.02837    0.44882  0.47s\n",
      "     61     \u001b[36m0.01185\u001b[0m     \u001b[32m0.02803\u001b[0m    0.42275  0.47s\n",
      "     62     \u001b[36m0.01087\u001b[0m     \u001b[32m0.02769\u001b[0m    0.39275  0.47s\n",
      "     63     0.01245     0.02778    0.44831  0.47s\n",
      "     64     0.01160     0.02775    0.41800  0.47s\n",
      "     65     0.01109     0.02805    0.39530  0.47s\n",
      "     66     0.01122     0.02798    0.40101  0.47s\n",
      "     67     0.01092     0.02866    0.38094  0.47s\n",
      "     68     \u001b[36m0.01053\u001b[0m     \u001b[32m0.02735\u001b[0m    0.38498  0.47s\n",
      "     69     0.01127     0.02789    0.40407  0.47s\n",
      "     70     0.01144     0.02823    0.40521  0.47s\n",
      "     71     \u001b[36m0.01034\u001b[0m     0.02771    0.37294  0.47s\n",
      "     72     0.01061     0.02797    0.37929  0.47s\n",
      "     73     \u001b[36m0.01015\u001b[0m     0.02751    0.36902  0.47s\n",
      "     74     0.01056     0.02790    0.37842  0.48s\n",
      "     75     0.01030     \u001b[32m0.02624\u001b[0m    0.39239  0.47s\n",
      "     76     \u001b[36m0.00979\u001b[0m     0.02648    0.36994  0.47s\n",
      "     77     0.01048     0.02696    0.38876  0.47s\n",
      "     78     0.01064     0.02713    0.39200  0.47s\n",
      "     79     0.01036     0.02641    0.39226  0.47s\n",
      "     80     0.00989     0.02677    0.36960  0.47s\n",
      "     81     0.01029     \u001b[32m0.02599\u001b[0m    0.39600  0.47s\n",
      "     82     \u001b[36m0.00969\u001b[0m     0.02644    0.36667  0.47s\n",
      "     83     \u001b[36m0.00904\u001b[0m     0.02644    0.34180  0.47s\n",
      "     84     0.00953     0.02611    0.36501  0.47s\n",
      "     85     0.00947     0.02632    0.35975  0.47s\n",
      "     86     0.00971     0.02632    0.36884  0.47s\n",
      "     87     0.00927     \u001b[32m0.02591\u001b[0m    0.35764  0.47s\n",
      "     88     0.00961     \u001b[32m0.02575\u001b[0m    0.37324  0.47s\n",
      "     89     0.00927     0.02619    0.35412  0.47s\n",
      "     90     \u001b[36m0.00901\u001b[0m     0.02686    0.33561  0.47s\n",
      "     91     \u001b[36m0.00862\u001b[0m     0.02638    0.32693  0.47s\n",
      "     92     \u001b[36m0.00852\u001b[0m     0.02598    0.32804  0.47s\n",
      "     93     0.00911     0.02652    0.34350  0.47s\n",
      "     94     \u001b[36m0.00833\u001b[0m     0.02679    0.31111  0.47s\n",
      "     95     0.00845     0.02683    0.31512  0.47s\n",
      "     96     0.00839     0.02678    0.31339  0.47s\n",
      "     97     0.00891     0.02633    0.33823  0.47s\n",
      "     98     \u001b[36m0.00786\u001b[0m     0.02641    0.29769  0.47s\n",
      "     99     0.00804     0.02630    0.30565  0.47s\n",
      "    100     0.00860     0.02588    0.33239  0.47s\n"
     ]
    },
    {
     "data": {
      "text/plain": [
       "NeuralNet(X_tensor_type=None,\n",
       "     batch_iterator_test=<nolearn.lasagne.base.BatchIterator object at 0x7fb27c632550>,\n",
       "     batch_iterator_train=<nolearn.lasagne.base.BatchIterator object at 0x7fb27c632518>,\n",
       "     check_input=True, custom_scores=None,\n",
       "     layers=[<lasagne.layers.dense.DenseLayer object at 0x7fb23d695da0>],\n",
       "     loss=None, max_epochs=100, more_params={},\n",
       "     objective=<function objective at 0x7fb27c090598>,\n",
       "     objective_loss_function=<function squared_error at 0x7fb27c67dea0>,\n",
       "     on_batch_finished=[],\n",
       "     on_epoch_finished=[<nolearn.lasagne.handlers.PrintLog object at 0x7fb23d6ad630>],\n",
       "     on_training_finished=[],\n",
       "     on_training_started=[<nolearn.lasagne.handlers.PrintLayerInfo object at 0x7fb23d6adb00>],\n",
       "     regression=True, scores_train=[], scores_valid=[],\n",
       "     train_split=<nolearn.lasagne.base.TrainSplit object at 0x7fb2ac0efba8>,\n",
       "     update=<function nesterov_momentum at 0x7fb27c67e9d8>,\n",
       "     update_learning_rate=<TensorType(float32, scalar)>,\n",
       "     update_momentum=<TensorType(float32, scalar)>,\n",
       "     use_label_encoder=False, verbose=1,\n",
       "     y_tensor_type=TensorType(float32, matrix))"
      ]
     },
     "execution_count": 56,
     "metadata": {},
     "output_type": "execute_result"
    }
   ],
   "source": [
    "net_coor.fit(X_train, y_train)"
   ]
  },
  {
   "cell_type": "code",
   "execution_count": 58,
   "metadata": {
    "collapsed": false,
    "deletable": true,
    "editable": true
   },
   "outputs": [
    {
     "data": {
      "text/plain": [
       "<module 'matplotlib.pyplot' from '/usr/lib/python3.6/site-packages/matplotlib/pyplot.py'>"
      ]
     },
     "execution_count": 58,
     "metadata": {},
     "output_type": "execute_result"
    },
    {
     "data": {
      "image/png": "[encoded data removed]",
      "text/plain": [
       "<matplotlib.figure.Figure at 0x7fb26e34e5c0>"
      ]
     },
     "metadata": {},
     "output_type": "display_data"
    }
   ],
   "source": [
    "%matplotlib inline\n",
    "visualize.plot_loss(net_coor)"
   ]
  },
  {
   "cell_type": "code",
   "execution_count": 60,
   "metadata": {
    "collapsed": false,
    "deletable": true,
    "editable": true
   },
   "outputs": [
    {
     "name": "stdout",
     "output_type": "stream",
     "text": [
      "0.176992\n",
      "0.810157477856\n",
      "0.0945339\n",
      "0.812898558344\n"
     ]
    }
   ],
   "source": [
    "from sklearn.metrics import mean_squared_error, mean_absolute_error, explained_variance_score, r2_score\n",
    "y_pred = net_coor.predict(X_test)\n",
    "print(np.sqrt(mean_squared_error(y_test, y_pred)))\n",
    "print(explained_variance_score(y_test.ravel(), y_pred.ravel()))\n",
    "print(mean_absolute_error(y_test, y_pred))\n",
    "print(r2_score(y_test, y_pred)) "
   ]
  },
  {
   "cell_type": "code",
   "execution_count": 61,
   "metadata": {
    "collapsed": false,
    "deletable": true,
    "editable": true
   },
   "outputs": [
    {
     "data": {
      "image/png": "[encoded data removed]",
      "text/plain": [
       "<matplotlib.figure.Figure at 0x7fb26e19ba58>"
      ]
     },
     "metadata": {},
     "output_type": "display_data"
    },
    {
     "data": {
      "text/plain": [
       "(0.90077382, 3.700835643062081e-273)"
      ]
     },
     "execution_count": 61,
     "metadata": {},
     "output_type": "execute_result"
    }
   ],
   "source": [
    "from scipy.stats import pearsonr\n",
    "plt.clf()\n",
    "plt.scatter(y_test, net_coor.predict(X_test))\n",
    "plt.show()\n",
    "pearsonr(y_test.ravel(), net_coor.predict(X_test).ravel())"
   ]
  },
  {
   "cell_type": "code",
   "execution_count": 77,
   "metadata": {
    "collapsed": true,
    "deletable": true,
    "editable": true
   },
   "outputs": [],
   "source": [
    "def plot_sample(img, y, axis, move=48):\n",
    "    axis.imshow(img, cmap='gray')\n",
    "    print(y[0::2])\n",
    "    print(y[1::2])\n",
    "    axis.scatter(y[0::2], y[1::2], marker='x', s=5)"
   ]
  },
  {
   "cell_type": "code",
   "execution_count": 78,
   "metadata": {
    "collapsed": false,
    "deletable": true,
    "editable": true
   },
   "outputs": [
    {
     "name": "stdout",
     "output_type": "stream",
     "text": [
      "[[  66.7985525   126.25144326   68.85513287  113.41012873   68.69966399\n",
      "    77.59487146]]\n",
      "[]\n"
     ]
    },
    {
     "ename": "ValueError",
     "evalue": "x and y must be the same size",
     "output_type": "error",
     "traceback": [
      "\u001b[0;31m---------------------------------------------------------------------------\u001b[0m",
      "\u001b[0;31mValueError\u001b[0m                                Traceback (most recent call last)",
      "\u001b[0;32m<ipython-input-78-3d16458766ac>\u001b[0m in \u001b[0;36m<module>\u001b[0;34m()\u001b[0m\n\u001b[1;32m      5\u001b[0m     \u001b[0mimg\u001b[0m \u001b[0;34m=\u001b[0m \u001b[0mX_test\u001b[0m\u001b[0;34m[\u001b[0m\u001b[0mi\u001b[0m\u001b[0;34m]\u001b[0m\u001b[0;34m.\u001b[0m\u001b[0mreshape\u001b[0m\u001b[0;34m(\u001b[0m\u001b[0;36m128\u001b[0m\u001b[0;34m,\u001b[0m \u001b[0;36m128\u001b[0m\u001b[0;34m)\u001b[0m\u001b[0;34m\u001b[0m\u001b[0m\n\u001b[1;32m      6\u001b[0m     \u001b[0mnew_coords\u001b[0m \u001b[0;34m=\u001b[0m \u001b[0mminmax\u001b[0m\u001b[0;34m.\u001b[0m\u001b[0minverse_transform\u001b[0m\u001b[0;34m(\u001b[0m\u001b[0;34m[\u001b[0m\u001b[0my_pred\u001b[0m\u001b[0;34m[\u001b[0m\u001b[0mi\u001b[0m\u001b[0;34m]\u001b[0m\u001b[0;34m]\u001b[0m\u001b[0;34m)\u001b[0m\u001b[0;34m\u001b[0m\u001b[0m\n\u001b[0;32m----> 7\u001b[0;31m     \u001b[0mplot_sample\u001b[0m\u001b[0;34m(\u001b[0m\u001b[0mimg\u001b[0m\u001b[0;34m,\u001b[0m \u001b[0mnew_coords\u001b[0m\u001b[0;34m,\u001b[0m \u001b[0max\u001b[0m\u001b[0;34m)\u001b[0m\u001b[0;34m\u001b[0m\u001b[0m\n\u001b[0m\u001b[1;32m      8\u001b[0m     \u001b[0mplt\u001b[0m\u001b[0;34m.\u001b[0m\u001b[0mshow\u001b[0m\u001b[0;34m(\u001b[0m\u001b[0;34m)\u001b[0m\u001b[0;34m\u001b[0m\u001b[0m\n",
      "\u001b[0;32m<ipython-input-77-592a1de90bb4>\u001b[0m in \u001b[0;36mplot_sample\u001b[0;34m(img, y, axis, move)\u001b[0m\n\u001b[1;32m      3\u001b[0m     \u001b[0mprint\u001b[0m\u001b[0;34m(\u001b[0m\u001b[0my\u001b[0m\u001b[0;34m[\u001b[0m\u001b[0;36m0\u001b[0m\u001b[0;34m:\u001b[0m\u001b[0;34m:\u001b[0m\u001b[0;36m2\u001b[0m\u001b[0;34m]\u001b[0m\u001b[0;34m)\u001b[0m\u001b[0;34m\u001b[0m\u001b[0m\n\u001b[1;32m      4\u001b[0m     \u001b[0mprint\u001b[0m\u001b[0;34m(\u001b[0m\u001b[0my\u001b[0m\u001b[0;34m[\u001b[0m\u001b[0;36m1\u001b[0m\u001b[0;34m:\u001b[0m\u001b[0;34m:\u001b[0m\u001b[0;36m2\u001b[0m\u001b[0;34m]\u001b[0m\u001b[0;34m)\u001b[0m\u001b[0;34m\u001b[0m\u001b[0m\n\u001b[0;32m----> 5\u001b[0;31m     \u001b[0maxis\u001b[0m\u001b[0;34m.\u001b[0m\u001b[0mscatter\u001b[0m\u001b[0;34m(\u001b[0m\u001b[0my\u001b[0m\u001b[0;34m[\u001b[0m\u001b[0;36m0\u001b[0m\u001b[0;34m:\u001b[0m\u001b[0;34m:\u001b[0m\u001b[0;36m2\u001b[0m\u001b[0;34m]\u001b[0m\u001b[0;34m,\u001b[0m \u001b[0my\u001b[0m\u001b[0;34m[\u001b[0m\u001b[0;36m1\u001b[0m\u001b[0;34m:\u001b[0m\u001b[0;34m:\u001b[0m\u001b[0;36m2\u001b[0m\u001b[0;34m]\u001b[0m\u001b[0;34m,\u001b[0m \u001b[0mmarker\u001b[0m\u001b[0;34m=\u001b[0m\u001b[0;34m'x'\u001b[0m\u001b[0;34m,\u001b[0m \u001b[0ms\u001b[0m\u001b[0;34m=\u001b[0m\u001b[0;36m5\u001b[0m\u001b[0;34m)\u001b[0m\u001b[0;34m\u001b[0m\u001b[0m\n\u001b[0m",
      "\u001b[0;32m/usr/lib/python3.6/site-packages/matplotlib/__init__.py\u001b[0m in \u001b[0;36minner\u001b[0;34m(ax, *args, **kwargs)\u001b[0m\n\u001b[1;32m   1896\u001b[0m                     warnings.warn(msg % (label_namer, func.__name__),\n\u001b[1;32m   1897\u001b[0m                                   RuntimeWarning, stacklevel=2)\n\u001b[0;32m-> 1898\u001b[0;31m             \u001b[0;32mreturn\u001b[0m \u001b[0mfunc\u001b[0m\u001b[0;34m(\u001b[0m\u001b[0max\u001b[0m\u001b[0;34m,\u001b[0m \u001b[0;34m*\u001b[0m\u001b[0margs\u001b[0m\u001b[0;34m,\u001b[0m \u001b[0;34m**\u001b[0m\u001b[0mkwargs\u001b[0m\u001b[0;34m)\u001b[0m\u001b[0;34m\u001b[0m\u001b[0m\n\u001b[0m\u001b[1;32m   1899\u001b[0m         \u001b[0mpre_doc\u001b[0m \u001b[0;34m=\u001b[0m \u001b[0minner\u001b[0m\u001b[0;34m.\u001b[0m\u001b[0m__doc__\u001b[0m\u001b[0;34m\u001b[0m\u001b[0m\n\u001b[1;32m   1900\u001b[0m         \u001b[0;32mif\u001b[0m \u001b[0mpre_doc\u001b[0m \u001b[0;32mis\u001b[0m \u001b[0;32mNone\u001b[0m\u001b[0;34m:\u001b[0m\u001b[0;34m\u001b[0m\u001b[0m\n",
      "\u001b[0;32m/usr/lib/python3.6/site-packages/matplotlib/axes/_axes.py\u001b[0m in \u001b[0;36mscatter\u001b[0;34m(self, x, y, s, c, marker, cmap, norm, vmin, vmax, alpha, linewidths, verts, edgecolors, **kwargs)\u001b[0m\n\u001b[1;32m   3962\u001b[0m         \u001b[0my\u001b[0m \u001b[0;34m=\u001b[0m \u001b[0mnp\u001b[0m\u001b[0;34m.\u001b[0m\u001b[0mma\u001b[0m\u001b[0;34m.\u001b[0m\u001b[0mravel\u001b[0m\u001b[0;34m(\u001b[0m\u001b[0my\u001b[0m\u001b[0;34m)\u001b[0m\u001b[0;34m\u001b[0m\u001b[0m\n\u001b[1;32m   3963\u001b[0m         \u001b[0;32mif\u001b[0m \u001b[0mx\u001b[0m\u001b[0;34m.\u001b[0m\u001b[0msize\u001b[0m \u001b[0;34m!=\u001b[0m \u001b[0my\u001b[0m\u001b[0;34m.\u001b[0m\u001b[0msize\u001b[0m\u001b[0;34m:\u001b[0m\u001b[0;34m\u001b[0m\u001b[0m\n\u001b[0;32m-> 3964\u001b[0;31m             \u001b[0;32mraise\u001b[0m \u001b[0mValueError\u001b[0m\u001b[0;34m(\u001b[0m\u001b[0;34m\"x and y must be the same size\"\u001b[0m\u001b[0;34m)\u001b[0m\u001b[0;34m\u001b[0m\u001b[0m\n\u001b[0m\u001b[1;32m   3965\u001b[0m \u001b[0;34m\u001b[0m\u001b[0m\n\u001b[1;32m   3966\u001b[0m         \u001b[0;32mif\u001b[0m \u001b[0ms\u001b[0m \u001b[0;32mis\u001b[0m \u001b[0;32mNone\u001b[0m\u001b[0;34m:\u001b[0m\u001b[0;34m\u001b[0m\u001b[0m\n",
      "\u001b[0;31mValueError\u001b[0m: x and y must be the same size"
     ]
    },
    {
     "data": {
      "text/plain": [
       "<matplotlib.figure.Figure at 0x7fb26dc91828>"
      ]
     },
     "metadata": {},
     "output_type": "display_data"
    },
    {
     "data": {
      "image/png": "[encoded data removed]",
      "text/plain": [
       "<matplotlib.figure.Figure at 0x7fb26dc91c50>"
      ]
     },
     "metadata": {},
     "output_type": "display_data"
    }
   ],
   "source": [
    "for i in range(X_test.shape[0]):\n",
    "    plt.clf()\n",
    "    fig = plt.figure(figsize=(6, 3))\n",
    "    ax = fig.add_subplot(1, 2, 1, xticks=[], yticks=[])\n",
    "    img = X_test[i].reshape(128, 128)\n",
    "    new_coords = minmax.inverse_transform([y_pred[i]])\n",
    "    plot_sample(img, new_coords.ravel, ax)\n",
    "    plt.show()"
   ]
  },
  {
   "cell_type": "code",
   "execution_count": null,
   "metadata": {
    "collapsed": false,
    "deletable": true,
    "editable": true
   },
   "outputs": [],
   "source": [
    "import time\n",
    "import cv2\n",
    "\n",
    "def regresor_over_video(file_name):\n",
    "    cap = cv2.VideoCapture(file_name)\n",
    "    frames_count = cap.get(7)\n",
    "    \n",
    "    for frame_id in range(int(frames_count)):\n",
    "        ret, frame = cap.read()\n",
    "        frame_ = cv2.cvtColor(frame, cv2.COLOR_RGB2GRAY)\n",
    "        frame_ = cv2.equalizeHist(frame_)\n",
    "        res = cv2.resize(frame_, (128, 128), interpolation = cv2.INTER_CUBIC)\n",
    "        X = format_net(res)\n",
    "\n",
    "        y_pred = minmax.inverse_transform(net_coor.predict(X)).ravel()\n",
    "        for i in range(0, y_pred.shape[0], 2):\n",
    "            new_scale = int(y_pred[i]*(frame.shape[1]/128.)), int(y_pred[i + 1] * (frame.shape[0]/128.))\n",
    "            cv2.circle(frame, new_scale, 30, 155, -1)\n",
    "        cv2.imshow('frame',frame)\n",
    "        cv2.waitKey(1)\n",
    "        \n",
    "    cap.release()\n",
    "    cv2.destroyAllWindows()"
   ]
  },
  {
   "cell_type": "code",
   "execution_count": null,
   "metadata": {
    "collapsed": false,
    "deletable": true,
    "editable": true
   },
   "outputs": [],
   "source": [
    "regresor_over_video(\"data/videos_demo/lambda_regresor.mp4\")"
   ]
  },
  {
   "cell_type": "markdown",
   "metadata": {
    "deletable": true,
    "editable": true
   },
   "source": [
    "### Quiero profundizar más!\n",
    "\n",
    "- [Neural Networks and Deep Learning free online book](http://neuralnetworksanddeeplearning.com/index.html)\n",
    "- [CS231n: Convolutional Neural Networks for Visual Recognition](http://cs231n.github.io/)\n",
    "- [Unsupervised Feature Learning and Deep Learning.](http://deeplearning.stanford.edu/tutorial/)\n",
    "\n",
    "![alt text](images/bye.jpg)\n"
   ]
  }
 ],
 "metadata": {
  "celltoolbar": "Raw Cell Format",
  "kernelspec": {
   "display_name": "Python 3",
   "language": "python",
   "name": "python3"
  },
  "language_info": {
   "codemirror_mode": {
    "name": "ipython",
    "version": 3
   },
   "file_extension": ".py",
   "mimetype": "text/x-python",
   "name": "python",
   "nbconvert_exporter": "python",
   "pygments_lexer": "ipython3",
   "version": "3.6.0"
  }
 },
 "nbformat": 4,
 "nbformat_minor": 0
}
