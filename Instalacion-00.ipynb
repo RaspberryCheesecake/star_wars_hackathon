{
 "cells": [
  {
   "cell_type": "markdown",
   "metadata": {},
   "source": [
    "## Instalación\n",
    "\n",
    "### Bibliotecas a utilizar\n",
    "\n",
    "- NumPy y SciPy (Necesita blas o lapack en sistema)\n",
    "- Pandas requiere Cython\n",
    "- OpenCV 3.0 pa' arriba para preprocesamiento de imágenes (en sistema, ver codecs) \n",
    "- Scikit learn para funciones de validación y métricas\n",
    "- Matplotlib para ploteo de funciones (freetype y png necesarios en sistema)\n",
    "    - libpng freetype-devel (fedora) \n",
    "- Lasagne y Theano para deep learning"
   ]
  },
  {
   "cell_type": "code",
   "execution_count": null,
   "metadata": {
    "collapsed": true
   },
   "outputs": [],
   "source": [
    "! pip2 install numpy scipy pandas scikit-learn matplotlib"
   ]
  },
  {
   "cell_type": "code",
   "execution_count": null,
   "metadata": {
    "collapsed": true
   },
   "outputs": [],
   "source": [
    "! pip2 install -r https://raw.githubusercontent.com/Lasagne/Lasagne/master/requirements.txt"
   ]
  },
  {
   "cell_type": "code",
   "execution_count": null,
   "metadata": {
    "collapsed": true
   },
   "outputs": [],
   "source": [
    "! pip2 install https://github.com/Lasagne/Lasagne/archive/master.zip"
   ]
  },
  {
   "cell_type": "markdown",
   "metadata": {},
   "source": [
    "## Desde docker\n",
    "Para todos:\n",
    "  - Docker instalado\n",
    "  - y hacele un pull a nuestra imagen en Docker Hub\n",
    "     - $ docker pull pablo1n7/tatooine\n",
    "  - Clonate nuestro repo oficial del taller\n",
    "\n",
    "\n",
    "Si tenes notebook con nvidia:\n",
    "  - Traela con los drivers de nvidia instalados (http://www.nvidia.com/object/unix.html)\n",
    "  - e Instala Docker-nvidia (https://github.com/NVIDIA/nvidia-docker)\n",
    " \n",
    " \n",
    "## TODO agregar script de run docker"
   ]
  }
 ],
 "metadata": {
  "kernelspec": {
   "display_name": "Python 2",
   "language": "python2",
   "name": "python2"
  },
  "language_info": {
   "codemirror_mode": {
    "name": "ipython",
    "version": 2
   },
   "file_extension": ".py",
   "mimetype": "text/x-python",
   "name": "python",
   "nbconvert_exporter": "python",
   "pygments_lexer": "ipython2",
   "version": "2.7.11"
  }
 },
 "nbformat": 4,
 "nbformat_minor": 0
}
